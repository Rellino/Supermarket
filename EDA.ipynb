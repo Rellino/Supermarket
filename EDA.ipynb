{
 "cells": [
  {
   "cell_type": "markdown",
   "metadata": {},
   "source": [
    "# Supermarket EDA"
   ]
  },
  {
   "cell_type": "code",
   "execution_count": null,
   "metadata": {},
   "outputs": [],
   "source": []
  },
  {
   "cell_type": "code",
   "execution_count": 1,
   "metadata": {},
   "outputs": [],
   "source": [
    "import numpy as np\n",
    "import pandas as pd\n",
    "import matplotlib.pyplot as plt\n",
    "import seaborn as sns"
   ]
  },
  {
   "cell_type": "code",
   "execution_count": 2,
   "metadata": {},
   "outputs": [],
   "source": [
    "mon = pd.read_csv('data/monday.csv', sep=';', index_col=0, parse_dates=True)\n",
    "tue = pd.read_csv('data/tuesday.csv', sep=';', index_col=0, parse_dates=True)\n",
    "wed = pd.read_csv('data/wednesday.csv', sep=';', index_col=0, parse_dates=True)\n",
    "thu = pd.read_csv('data/thursday.csv', sep=';', index_col=0, parse_dates=True)\n",
    "fri = pd.read_csv('data/friday.csv', sep=';', index_col=0, parse_dates=True)\n"
   ]
  },
  {
   "cell_type": "code",
   "execution_count": 3,
   "metadata": {},
   "outputs": [],
   "source": [
    "def new_cust_col(a):\n",
    "    '''updated the customer columns of a dataframe adding the weekly day'''\n",
    "    lst = ['m_','tu_','w_','th_','fr_']\n",
    "    wd = a.index[1].weekday()\n",
    "    a['cust_no'] = lst[wd]+a['customer_no'].astype('str')\n",
    "    a.drop('customer_no', axis=1, inplace=True)\n",
    "    return a"
   ]
  },
  {
   "cell_type": "code",
   "execution_count": 4,
   "metadata": {},
   "outputs": [],
   "source": [
    "mon = new_cust_col(mon)\n",
    "tue = new_cust_col(tue)\n",
    "wed = new_cust_col(wed)\n",
    "thu = new_cust_col(thu)\n",
    "fri = new_cust_col(fri)"
   ]
  },
  {
   "cell_type": "code",
   "execution_count": 5,
   "metadata": {},
   "outputs": [
    {
     "data": {
      "text/html": [
       "<div>\n",
       "<style scoped>\n",
       "    .dataframe tbody tr th:only-of-type {\n",
       "        vertical-align: middle;\n",
       "    }\n",
       "\n",
       "    .dataframe tbody tr th {\n",
       "        vertical-align: top;\n",
       "    }\n",
       "\n",
       "    .dataframe thead th {\n",
       "        text-align: right;\n",
       "    }\n",
       "</style>\n",
       "<table border=\"1\" class=\"dataframe\">\n",
       "  <thead>\n",
       "    <tr style=\"text-align: right;\">\n",
       "      <th></th>\n",
       "      <th>location</th>\n",
       "      <th>cust_no</th>\n",
       "    </tr>\n",
       "    <tr>\n",
       "      <th>timestamp</th>\n",
       "      <th></th>\n",
       "      <th></th>\n",
       "    </tr>\n",
       "  </thead>\n",
       "  <tbody>\n",
       "    <tr>\n",
       "      <th>2019-09-06 07:00:00</th>\n",
       "      <td>dairy</td>\n",
       "      <td>fr_1</td>\n",
       "    </tr>\n",
       "    <tr>\n",
       "      <th>2019-09-06 07:00:00</th>\n",
       "      <td>drinks</td>\n",
       "      <td>fr_2</td>\n",
       "    </tr>\n",
       "    <tr>\n",
       "      <th>2019-09-06 07:00:00</th>\n",
       "      <td>fruit</td>\n",
       "      <td>fr_3</td>\n",
       "    </tr>\n",
       "    <tr>\n",
       "      <th>2019-09-06 07:01:00</th>\n",
       "      <td>checkout</td>\n",
       "      <td>fr_2</td>\n",
       "    </tr>\n",
       "    <tr>\n",
       "      <th>2019-09-06 07:01:00</th>\n",
       "      <td>drinks</td>\n",
       "      <td>fr_4</td>\n",
       "    </tr>\n",
       "    <tr>\n",
       "      <th>...</th>\n",
       "      <td>...</td>\n",
       "      <td>...</td>\n",
       "    </tr>\n",
       "    <tr>\n",
       "      <th>2019-09-06 21:50:00</th>\n",
       "      <td>dairy</td>\n",
       "      <td>fr_1500</td>\n",
       "    </tr>\n",
       "    <tr>\n",
       "      <th>2019-09-06 21:50:00</th>\n",
       "      <td>checkout</td>\n",
       "      <td>fr_1507</td>\n",
       "    </tr>\n",
       "    <tr>\n",
       "      <th>2019-09-06 21:50:00</th>\n",
       "      <td>checkout</td>\n",
       "      <td>fr_1508</td>\n",
       "    </tr>\n",
       "    <tr>\n",
       "      <th>2019-09-06 21:50:00</th>\n",
       "      <td>drinks</td>\n",
       "      <td>fr_1509</td>\n",
       "    </tr>\n",
       "    <tr>\n",
       "      <th>2019-09-06 21:50:00</th>\n",
       "      <td>spices</td>\n",
       "      <td>fr_1510</td>\n",
       "    </tr>\n",
       "  </tbody>\n",
       "</table>\n",
       "<p>5125 rows × 2 columns</p>\n",
       "</div>"
      ],
      "text/plain": [
       "                     location  cust_no\n",
       "timestamp                             \n",
       "2019-09-06 07:00:00     dairy     fr_1\n",
       "2019-09-06 07:00:00    drinks     fr_2\n",
       "2019-09-06 07:00:00     fruit     fr_3\n",
       "2019-09-06 07:01:00  checkout     fr_2\n",
       "2019-09-06 07:01:00    drinks     fr_4\n",
       "...                       ...      ...\n",
       "2019-09-06 21:50:00     dairy  fr_1500\n",
       "2019-09-06 21:50:00  checkout  fr_1507\n",
       "2019-09-06 21:50:00  checkout  fr_1508\n",
       "2019-09-06 21:50:00    drinks  fr_1509\n",
       "2019-09-06 21:50:00    spices  fr_1510\n",
       "\n",
       "[5125 rows x 2 columns]"
      ]
     },
     "execution_count": 5,
     "metadata": {},
     "output_type": "execute_result"
    }
   ],
   "source": []
  },
  {
   "cell_type": "code",
   "execution_count": null,
   "metadata": {},
   "outputs": [],
   "source": []
  }
 ],
 "metadata": {
  "kernelspec": {
   "display_name": "Python 3",
   "language": "python",
   "name": "python3"
  },
  "language_info": {
   "codemirror_mode": {
    "name": "ipython",
    "version": 3
   },
   "file_extension": ".py",
   "mimetype": "text/x-python",
   "name": "python",
   "nbconvert_exporter": "python",
   "pygments_lexer": "ipython3",
   "version": "3.8.5"
  }
 },
 "nbformat": 4,
 "nbformat_minor": 4
}
