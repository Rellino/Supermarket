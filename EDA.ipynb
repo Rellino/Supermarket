{
 "cells": [
  {
   "cell_type": "markdown",
   "metadata": {},
   "source": [
    "# Supermarket EDA"
   ]
  },
  {
   "cell_type": "code",
   "execution_count": null,
   "metadata": {},
   "outputs": [],
   "source": []
  },
  {
   "cell_type": "code",
   "execution_count": 11,
   "metadata": {},
   "outputs": [],
   "source": [
    "import datetime\n",
    "\n",
    "import numpy as np\n",
    "import pandas as pd\n",
    "import matplotlib.pyplot as plt\n",
    "import seaborn as sns"
   ]
  },
  {
   "cell_type": "code",
   "execution_count": 12,
   "metadata": {},
   "outputs": [],
   "source": [
    "mon = pd.read_csv('data/monday.csv', sep=';', index_col=0, parse_dates=True)\n",
    "tue = pd.read_csv('data/tuesday.csv', sep=';', index_col=0, parse_dates=True)\n",
    "wed = pd.read_csv('data/wednesday.csv', sep=';', index_col=0, parse_dates=True)\n",
    "thu = pd.read_csv('data/thursday.csv', sep=';', index_col=0, parse_dates=True)\n",
    "fri = pd.read_csv('data/friday.csv', sep=';', index_col=0, parse_dates=True)\n"
   ]
  },
  {
   "cell_type": "code",
   "execution_count": 13,
   "metadata": {},
   "outputs": [],
   "source": [
    "def feat_eng(day):\n",
    "    '''feature engineer the customer dataframe by,\n",
    "    creating unique identifier for customers over the week,\n",
    "    creating features for the ailes,\n",
    "    adding the missing rows for customers' checkout'''\n",
    "    \n",
    "    #update the customer columns adding the weekly day'''\n",
    "    lst = ['m_','tu_','w_','th_','fr_']\n",
    "    wd = day.index[1].weekday()\n",
    "    day['cust_no'] = lst[wd]+day['customer_no'].astype('str')\n",
    "    day.drop('customer_no', axis=1, inplace=True)\n",
    "    day.reset_index(inplace=True)\n",
    "    \n",
    "    #group-by and creation of new timestamps \n",
    "    new_day = day.groupby(['timestamp','cust_no'])['location'].value_counts().unstack()\n",
    "    new_day.fillna(0,inplace=True)\n",
    "    \n",
    "    #find the missing checkouts\n",
    "    chkt = pd.DataFrame(data=new_day.index.get_level_values(1).value_counts() == 1)\n",
    "    lst = list(chkt[chkt['cust_no']==True].index)\n",
    "    \n",
    "    #reset the index (some residual problem here)\n",
    "    new_day.reset_index(inplace=True, col_level=1)\n",
    "    \n",
    "    #append the new rows for missing checkouts\n",
    "    mnt = new_day['timestamp'].max()+datetime.timedelta(minutes=1)\n",
    "    count = 0\n",
    "    for i in range(len(lst)):\n",
    "        new_day.loc[len(new_day)+count] = [mnt,lst[i],1.0,0.0,0.0,0.0,0.0]\n",
    "        count = count+1\n",
    "    \n",
    "    return new_day"
   ]
  },
  {
   "cell_type": "code",
   "execution_count": 14,
   "metadata": {},
   "outputs": [],
   "source": [
    "mon = feat_eng(mon)\n",
    "tue = feat_eng(tue)\n",
    "wed = feat_eng(wed)\n",
    "thu = feat_eng(thu)\n",
    "fri = feat_eng(fri)"
   ]
  },
  {
   "cell_type": "code",
   "execution_count": 15,
   "metadata": {},
   "outputs": [],
   "source": [
    "wk = pd.concat([mon,tue,wed,thu,fri],ignore_index=True) \n",
    "wk"
   ]
  },
  {
   "cell_type": "code",
   "execution_count": 18,
   "metadata": {},
   "outputs": [
    {
     "data": {
      "text/plain": [
       "<AxesSubplot:xlabel='location'>"
      ]
     },
     "execution_count": 18,
     "metadata": {},
     "output_type": "execute_result"
    },
    {
     "data": {
      "image/png": "[encoded data removed]",
      "text/plain": [
       "<Figure size 432x288 with 2 Axes>"
      ]
     },
     "metadata": {
      "needs_background": "light"
     },
     "output_type": "display_data"
    }
   ],
   "source": []
  },
  {
   "cell_type": "code",
   "execution_count": null,
   "metadata": {},
   "outputs": [],
   "source": []
  },
  {
   "cell_type": "code",
   "execution_count": null,
   "metadata": {},
   "outputs": [],
   "source": [
    "\n"
   ]
  },
  {
   "cell_type": "code",
   "execution_count": null,
   "metadata": {},
   "outputs": [],
   "source": [
    "\n"
   ]
  },
  {
   "cell_type": "code",
   "execution_count": null,
   "metadata": {},
   "outputs": [],
   "source": []
  },
  {
   "cell_type": "code",
   "execution_count": null,
   "metadata": {},
   "outputs": [],
   "source": []
  },
  {
   "cell_type": "code",
   "execution_count": null,
   "metadata": {},
   "outputs": [],
   "source": []
  },
  {
   "cell_type": "code",
   "execution_count": null,
   "metadata": {},
   "outputs": [],
   "source": []
  },
  {
   "cell_type": "code",
   "execution_count": null,
   "metadata": {},
   "outputs": [],
   "source": []
  },
  {
   "cell_type": "code",
   "execution_count": null,
   "metadata": {},
   "outputs": [],
   "source": []
  },
  {
   "cell_type": "code",
   "execution_count": null,
   "metadata": {},
   "outputs": [],
   "source": []
  }
 ],
 "metadata": {
  "kernelspec": {
   "display_name": "Python 3",
   "language": "python",
   "name": "python3"
  },
  "language_info": {
   "codemirror_mode": {
    "name": "ipython",
    "version": 3
   },
   "file_extension": ".py",
   "mimetype": "text/x-python",
   "name": "python",
   "nbconvert_exporter": "python",
   "pygments_lexer": "ipython3",
   "version": "3.8.5"
  }
 },
 "nbformat": 4,
 "nbformat_minor": 4
}
