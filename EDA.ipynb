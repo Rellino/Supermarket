{
 "cells": [
  {
   "cell_type": "markdown",
   "metadata": {},
   "source": [
    "# Supermarket EDA"
   ]
  },
  {
   "cell_type": "code",
   "execution_count": null,
   "metadata": {},
   "outputs": [],
   "source": []
  },
  {
   "cell_type": "code",
   "execution_count": 1,
   "metadata": {},
   "outputs": [],
   "source": [
    "import numpy as np\n",
    "import pandas as pd\n",
    "import matplotlib.pyplot as plt\n",
    "import seaborn as sns"
   ]
  },
  {
   "cell_type": "code",
   "execution_count": 7,
   "metadata": {},
   "outputs": [],
   "source": [
    "mon = pd.read_csv('data/monday.csv', sep=';', index_col=0, parse_dates=True)\n",
    "tue = pd.read_csv('data/tuesday.csv', sep=';', index_col=0, parse_dates=True)\n",
    "wed = pd.read_csv('data/wednesday.csv', sep=';', index_col=0, parse_dates=True)\n",
    "thu = pd.read_csv('data/thursday.csv', sep=';', index_col=0, parse_dates=True)\n",
    "fri = pd.read_csv('data/friday.csv', sep=';', index_col=0, parse_dates=True)\n"
   ]
  },
  {
   "cell_type": "code",
   "execution_count": 8,
   "metadata": {},
   "outputs": [
    {
     "data": {
      "text/html": [
       "<div>\n",
       "<style scoped>\n",
       "    .dataframe tbody tr th:only-of-type {\n",
       "        vertical-align: middle;\n",
       "    }\n",
       "\n",
       "    .dataframe tbody tr th {\n",
       "        vertical-align: top;\n",
       "    }\n",
       "\n",
       "    .dataframe thead th {\n",
       "        text-align: right;\n",
       "    }\n",
       "</style>\n",
       "<table border=\"1\" class=\"dataframe\">\n",
       "  <thead>\n",
       "    <tr style=\"text-align: right;\">\n",
       "      <th></th>\n",
       "      <th>customer_no</th>\n",
       "      <th>location</th>\n",
       "    </tr>\n",
       "    <tr>\n",
       "      <th>timestamp</th>\n",
       "      <th></th>\n",
       "      <th></th>\n",
       "    </tr>\n",
       "  </thead>\n",
       "  <tbody>\n",
       "    <tr>\n",
       "      <th>2019-09-02 07:03:00</th>\n",
       "      <td>1</td>\n",
       "      <td>dairy</td>\n",
       "    </tr>\n",
       "    <tr>\n",
       "      <th>2019-09-02 07:03:00</th>\n",
       "      <td>2</td>\n",
       "      <td>dairy</td>\n",
       "    </tr>\n",
       "    <tr>\n",
       "      <th>2019-09-02 07:04:00</th>\n",
       "      <td>3</td>\n",
       "      <td>dairy</td>\n",
       "    </tr>\n",
       "    <tr>\n",
       "      <th>2019-09-02 07:04:00</th>\n",
       "      <td>4</td>\n",
       "      <td>dairy</td>\n",
       "    </tr>\n",
       "    <tr>\n",
       "      <th>2019-09-02 07:04:00</th>\n",
       "      <td>5</td>\n",
       "      <td>spices</td>\n",
       "    </tr>\n",
       "    <tr>\n",
       "      <th>...</th>\n",
       "      <td>...</td>\n",
       "      <td>...</td>\n",
       "    </tr>\n",
       "    <tr>\n",
       "      <th>2019-09-02 21:49:00</th>\n",
       "      <td>1442</td>\n",
       "      <td>checkout</td>\n",
       "    </tr>\n",
       "    <tr>\n",
       "      <th>2019-09-02 21:49:00</th>\n",
       "      <td>1444</td>\n",
       "      <td>checkout</td>\n",
       "    </tr>\n",
       "    <tr>\n",
       "      <th>2019-09-02 21:49:00</th>\n",
       "      <td>1445</td>\n",
       "      <td>dairy</td>\n",
       "    </tr>\n",
       "    <tr>\n",
       "      <th>2019-09-02 21:50:00</th>\n",
       "      <td>1446</td>\n",
       "      <td>dairy</td>\n",
       "    </tr>\n",
       "    <tr>\n",
       "      <th>2019-09-02 21:50:00</th>\n",
       "      <td>1447</td>\n",
       "      <td>fruit</td>\n",
       "    </tr>\n",
       "  </tbody>\n",
       "</table>\n",
       "<p>4884 rows × 2 columns</p>\n",
       "</div>"
      ],
      "text/plain": [
       "                     customer_no  location\n",
       "timestamp                                 \n",
       "2019-09-02 07:03:00            1     dairy\n",
       "2019-09-02 07:03:00            2     dairy\n",
       "2019-09-02 07:04:00            3     dairy\n",
       "2019-09-02 07:04:00            4     dairy\n",
       "2019-09-02 07:04:00            5    spices\n",
       "...                          ...       ...\n",
       "2019-09-02 21:49:00         1442  checkout\n",
       "2019-09-02 21:49:00         1444  checkout\n",
       "2019-09-02 21:49:00         1445     dairy\n",
       "2019-09-02 21:50:00         1446     dairy\n",
       "2019-09-02 21:50:00         1447     fruit\n",
       "\n",
       "[4884 rows x 2 columns]"
      ]
     },
     "execution_count": 8,
     "metadata": {},
     "output_type": "execute_result"
    }
   ],
   "source": [
    "mon"
   ]
  },
  {
   "cell_type": "code",
   "execution_count": null,
   "metadata": {},
   "outputs": [],
   "source": []
  },
  {
   "cell_type": "code",
   "execution_count": null,
   "metadata": {},
   "outputs": [],
   "source": []
  }
 ],
 "metadata": {
  "kernelspec": {
   "display_name": "Python 3",
   "language": "python",
   "name": "python3"
  },
  "language_info": {
   "codemirror_mode": {
    "name": "ipython",
    "version": 3
   },
   "file_extension": ".py",
   "mimetype": "text/x-python",
   "name": "python",
   "nbconvert_exporter": "python",
   "pygments_lexer": "ipython3",
   "version": "3.8.5"
  }
 },
 "nbformat": 4,
 "nbformat_minor": 4
}
