{
 "cells": [
  {
   "cell_type": "markdown",
   "metadata": {},
   "source": [
    "### Loading the csv files"
   ]
  },
  {
   "cell_type": "code",
   "execution_count": 1,
   "metadata": {},
   "outputs": [],
   "source": [
    "import pandas as pd\n",
    "import numpy as np\n",
    "import datetime\n",
    "import matplotlib.pyplot as plt\n",
    "import seaborn as sns"
   ]
  },
  {
   "cell_type": "code",
   "execution_count": 2,
   "metadata": {},
   "outputs": [],
   "source": [
    "mon = pd.read_csv('../data/monday.csv', sep=';', parse_dates=[0])\n",
    "tue = pd.read_csv('../data/tuesday.csv', sep=';', parse_dates=[0])\n",
    "wed = pd.read_csv('../data/wednesday.csv', sep=';', parse_dates=[0])\n",
    "thu = pd.read_csv('../data/thursday.csv', sep=';', parse_dates=[0])\n",
    "fri = pd.read_csv('../data/friday.csv', sep=';', parse_dates=[0])\n"
   ]
  },
  {
   "cell_type": "code",
   "execution_count": 3,
   "metadata": {},
   "outputs": [],
   "source": [
    "def fe_matrix(day):\n",
    "    '''add the checkout to the customers who miss it and\n",
    "    assign unique identifiers for customers over the week'''\n",
    "    #find the missing checkouts\n",
    "    chkt = pd.DataFrame(data=day.groupby('customer_no')['location'].sum().str.slice(start=-3) != 'out')\n",
    "    lst = list(chkt[chkt['location']==True].index)\n",
    "    \n",
    "    #append the new rows for missing checkouts\n",
    "    mnt = day['timestamp'].max()+datetime.timedelta(minutes=1)\n",
    "    count = 0\n",
    "    for i in range(len(lst)):\n",
    "        day.loc[len(day)+count] = [mnt,lst[i],'checkout']\n",
    "        count = count+1\n",
    "        \n",
    "        \n",
    "    #update the customer columns adding the weekly day\n",
    "    lst2 = ['m_','tu_','w_','th_','fr_']\n",
    "    wd = day.timestamp[1].weekday()\n",
    "    day['cust_id'] = lst2[wd]+day['customer_no'].astype('str')\n",
    "   \n",
    "    return day"
   ]
  },
  {
   "cell_type": "code",
   "execution_count": 4,
   "metadata": {},
   "outputs": [],
   "source": [
    "mon = fe_matrix(mon)\n",
    "tue = fe_matrix(tue)\n",
    "wed = fe_matrix(wed)\n",
    "thu = fe_matrix(thu)\n",
    "fri = fe_matrix(fri)\n",
    "df = pd.concat([mon,tue,wed,thu,fri],ignore_index=True) \n",
    "df.set_index('timestamp', inplace=True)"
   ]
  },
  {
   "cell_type": "markdown",
   "metadata": {},
   "source": [
    "### Expanding table's column\n"
   ]
  },
  {
   "cell_type": "code",
   "execution_count": 5,
   "metadata": {},
   "outputs": [
    {
     "output_type": "execute_result",
     "data": {
      "text/plain": [
       "                     customer_no  location  cust_id      time\n",
       "timestamp                                                    \n",
       "2019-09-02 07:03:00            1     dairy      m_1  07:03:00\n",
       "2019-09-02 07:03:00            2     dairy      m_2  07:03:00\n",
       "2019-09-02 07:04:00            3     dairy      m_3  07:04:00\n",
       "2019-09-02 07:04:00            4     dairy      m_4  07:04:00\n",
       "2019-09-02 07:04:00            5    spices      m_5  07:04:00\n",
       "...                          ...       ...      ...       ...\n",
       "2019-09-06 21:51:00         1503  checkout  fr_1503  21:51:00\n",
       "2019-09-06 21:51:00         1505  checkout  fr_1505  21:51:00\n",
       "2019-09-06 21:51:00         1506  checkout  fr_1506  21:51:00\n",
       "2019-09-06 21:51:00         1509  checkout  fr_1509  21:51:00\n",
       "2019-09-06 21:51:00         1510  checkout  fr_1510  21:51:00\n",
       "\n",
       "[24905 rows x 4 columns]"
      ],
      "text/html": "<div>\n<style scoped>\n    .dataframe tbody tr th:only-of-type {\n        vertical-align: middle;\n    }\n\n    .dataframe tbody tr th {\n        vertical-align: top;\n    }\n\n    .dataframe thead th {\n        text-align: right;\n    }\n</style>\n<table border=\"1\" class=\"dataframe\">\n  <thead>\n    <tr style=\"text-align: right;\">\n      <th></th>\n      <th>customer_no</th>\n      <th>location</th>\n      <th>cust_id</th>\n      <th>time</th>\n    </tr>\n    <tr>\n      <th>timestamp</th>\n      <th></th>\n      <th></th>\n      <th></th>\n      <th></th>\n    </tr>\n  </thead>\n  <tbody>\n    <tr>\n      <th>2019-09-02 07:03:00</th>\n      <td>1</td>\n      <td>dairy</td>\n      <td>m_1</td>\n      <td>07:03:00</td>\n    </tr>\n    <tr>\n      <th>2019-09-02 07:03:00</th>\n      <td>2</td>\n      <td>dairy</td>\n      <td>m_2</td>\n      <td>07:03:00</td>\n    </tr>\n    <tr>\n      <th>2019-09-02 07:04:00</th>\n      <td>3</td>\n      <td>dairy</td>\n      <td>m_3</td>\n      <td>07:04:00</td>\n    </tr>\n    <tr>\n      <th>2019-09-02 07:04:00</th>\n      <td>4</td>\n      <td>dairy</td>\n      <td>m_4</td>\n      <td>07:04:00</td>\n    </tr>\n    <tr>\n      <th>2019-09-02 07:04:00</th>\n      <td>5</td>\n      <td>spices</td>\n      <td>m_5</td>\n      <td>07:04:00</td>\n    </tr>\n    <tr>\n      <th>...</th>\n      <td>...</td>\n      <td>...</td>\n      <td>...</td>\n      <td>...</td>\n    </tr>\n    <tr>\n      <th>2019-09-06 21:51:00</th>\n      <td>1503</td>\n      <td>checkout</td>\n      <td>fr_1503</td>\n      <td>21:51:00</td>\n    </tr>\n    <tr>\n      <th>2019-09-06 21:51:00</th>\n      <td>1505</td>\n      <td>checkout</td>\n      <td>fr_1505</td>\n      <td>21:51:00</td>\n    </tr>\n    <tr>\n      <th>2019-09-06 21:51:00</th>\n      <td>1506</td>\n      <td>checkout</td>\n      <td>fr_1506</td>\n      <td>21:51:00</td>\n    </tr>\n    <tr>\n      <th>2019-09-06 21:51:00</th>\n      <td>1509</td>\n      <td>checkout</td>\n      <td>fr_1509</td>\n      <td>21:51:00</td>\n    </tr>\n    <tr>\n      <th>2019-09-06 21:51:00</th>\n      <td>1510</td>\n      <td>checkout</td>\n      <td>fr_1510</td>\n      <td>21:51:00</td>\n    </tr>\n  </tbody>\n</table>\n<p>24905 rows × 4 columns</p>\n</div>"
     },
     "metadata": {},
     "execution_count": 5
    }
   ],
   "source": [
    "df.sort_index(inplace=True)\n",
    "df['time'] = df.index.time \n",
    "df"
   ]
  },
  {
   "cell_type": "markdown",
   "metadata": {},
   "source": [
    "### Determining the order of states"
   ]
  },
  {
   "cell_type": "code",
   "execution_count": 6,
   "metadata": {},
   "outputs": [],
   "source": [
    "# finding the min of time in order to indicate the visited first aile of each customer into the supermarket\n",
    "first_section = df.reset_index().groupby('cust_id')['timestamp'].min()\n"
   ]
  },
  {
   "cell_type": "code",
   "execution_count": 7,
   "metadata": {},
   "outputs": [],
   "source": [
    "# Adding a column 'section_order' for adding 'first' visited aile, \n",
    "for customer in df[\"cust_id\"].unique():\n",
    "    df.loc[\n",
    "        (df['cust_id'] == customer) & (df.index == first_section[customer]),\n",
    "        \"section_order\"\n",
    "    ] = \"first\"\n",
    "#'following' for all other visited ailes \n",
    "df.loc[df[\"location\"] == \"checkout\", \"section_order\"] = \"checkout\"\n",
    "# checkout by customers\n",
    "df['section_order'].fillna('following', inplace=True)"
   ]
  },
  {
   "cell_type": "code",
   "execution_count": 8,
   "metadata": {},
   "outputs": [
    {
     "output_type": "execute_result",
     "data": {
      "text/plain": [
       "                     customer_no  location  cust_id      time section_order\n",
       "timestamp                                                                  \n",
       "2019-09-02 07:03:00            1     dairy      m_1  07:03:00         first\n",
       "2019-09-02 07:03:00            2     dairy      m_2  07:03:00         first\n",
       "2019-09-02 07:04:00            3     dairy      m_3  07:04:00         first\n",
       "2019-09-02 07:04:00            4     dairy      m_4  07:04:00         first\n",
       "2019-09-02 07:04:00            5    spices      m_5  07:04:00         first\n",
       "...                          ...       ...      ...       ...           ...\n",
       "2019-09-06 21:51:00         1503  checkout  fr_1503  21:51:00      checkout\n",
       "2019-09-06 21:51:00         1505  checkout  fr_1505  21:51:00      checkout\n",
       "2019-09-06 21:51:00         1506  checkout  fr_1506  21:51:00      checkout\n",
       "2019-09-06 21:51:00         1509  checkout  fr_1509  21:51:00      checkout\n",
       "2019-09-06 21:51:00         1510  checkout  fr_1510  21:51:00      checkout\n",
       "\n",
       "[24905 rows x 5 columns]"
      ],
      "text/html": "<div>\n<style scoped>\n    .dataframe tbody tr th:only-of-type {\n        vertical-align: middle;\n    }\n\n    .dataframe tbody tr th {\n        vertical-align: top;\n    }\n\n    .dataframe thead th {\n        text-align: right;\n    }\n</style>\n<table border=\"1\" class=\"dataframe\">\n  <thead>\n    <tr style=\"text-align: right;\">\n      <th></th>\n      <th>customer_no</th>\n      <th>location</th>\n      <th>cust_id</th>\n      <th>time</th>\n      <th>section_order</th>\n    </tr>\n    <tr>\n      <th>timestamp</th>\n      <th></th>\n      <th></th>\n      <th></th>\n      <th></th>\n      <th></th>\n    </tr>\n  </thead>\n  <tbody>\n    <tr>\n      <th>2019-09-02 07:03:00</th>\n      <td>1</td>\n      <td>dairy</td>\n      <td>m_1</td>\n      <td>07:03:00</td>\n      <td>first</td>\n    </tr>\n    <tr>\n      <th>2019-09-02 07:03:00</th>\n      <td>2</td>\n      <td>dairy</td>\n      <td>m_2</td>\n      <td>07:03:00</td>\n      <td>first</td>\n    </tr>\n    <tr>\n      <th>2019-09-02 07:04:00</th>\n      <td>3</td>\n      <td>dairy</td>\n      <td>m_3</td>\n      <td>07:04:00</td>\n      <td>first</td>\n    </tr>\n    <tr>\n      <th>2019-09-02 07:04:00</th>\n      <td>4</td>\n      <td>dairy</td>\n      <td>m_4</td>\n      <td>07:04:00</td>\n      <td>first</td>\n    </tr>\n    <tr>\n      <th>2019-09-02 07:04:00</th>\n      <td>5</td>\n      <td>spices</td>\n      <td>m_5</td>\n      <td>07:04:00</td>\n      <td>first</td>\n    </tr>\n    <tr>\n      <th>...</th>\n      <td>...</td>\n      <td>...</td>\n      <td>...</td>\n      <td>...</td>\n      <td>...</td>\n    </tr>\n    <tr>\n      <th>2019-09-06 21:51:00</th>\n      <td>1503</td>\n      <td>checkout</td>\n      <td>fr_1503</td>\n      <td>21:51:00</td>\n      <td>checkout</td>\n    </tr>\n    <tr>\n      <th>2019-09-06 21:51:00</th>\n      <td>1505</td>\n      <td>checkout</td>\n      <td>fr_1505</td>\n      <td>21:51:00</td>\n      <td>checkout</td>\n    </tr>\n    <tr>\n      <th>2019-09-06 21:51:00</th>\n      <td>1506</td>\n      <td>checkout</td>\n      <td>fr_1506</td>\n      <td>21:51:00</td>\n      <td>checkout</td>\n    </tr>\n    <tr>\n      <th>2019-09-06 21:51:00</th>\n      <td>1509</td>\n      <td>checkout</td>\n      <td>fr_1509</td>\n      <td>21:51:00</td>\n      <td>checkout</td>\n    </tr>\n    <tr>\n      <th>2019-09-06 21:51:00</th>\n      <td>1510</td>\n      <td>checkout</td>\n      <td>fr_1510</td>\n      <td>21:51:00</td>\n      <td>checkout</td>\n    </tr>\n  </tbody>\n</table>\n<p>24905 rows × 5 columns</p>\n</div>"
     },
     "metadata": {},
     "execution_count": 8
    }
   ],
   "source": [
    "df"
   ]
  },
  {
   "cell_type": "markdown",
   "metadata": {},
   "source": [
    "### Calculating the probabilities for the first section"
   ]
  },
  {
   "cell_type": "code",
   "execution_count": 9,
   "metadata": {},
   "outputs": [
    {
     "output_type": "execute_result",
     "data": {
      "text/plain": [
       "          cust_id\n",
       "location         \n",
       "dairy        2141\n",
       "drinks       1143\n",
       "fruit        2810\n",
       "spices       1351"
      ],
      "text/html": "<div>\n<style scoped>\n    .dataframe tbody tr th:only-of-type {\n        vertical-align: middle;\n    }\n\n    .dataframe tbody tr th {\n        vertical-align: top;\n    }\n\n    .dataframe thead th {\n        text-align: right;\n    }\n</style>\n<table border=\"1\" class=\"dataframe\">\n  <thead>\n    <tr style=\"text-align: right;\">\n      <th></th>\n      <th>cust_id</th>\n    </tr>\n    <tr>\n      <th>location</th>\n      <th></th>\n    </tr>\n  </thead>\n  <tbody>\n    <tr>\n      <th>dairy</th>\n      <td>2141</td>\n    </tr>\n    <tr>\n      <th>drinks</th>\n      <td>1143</td>\n    </tr>\n    <tr>\n      <th>fruit</th>\n      <td>2810</td>\n    </tr>\n    <tr>\n      <th>spices</th>\n      <td>1351</td>\n    </tr>\n  </tbody>\n</table>\n</div>"
     },
     "metadata": {},
     "execution_count": 9
    }
   ],
   "source": [
    "customers_in_first_sections = (\n",
    "    df[df.section_order == 'first'].groupby('location')[['cust_id']].count()\n",
    ")\n",
    "customers_in_first_sections"
   ]
  },
  {
   "cell_type": "code",
   "execution_count": 10,
   "metadata": {},
   "outputs": [
    {
     "output_type": "execute_result",
     "data": {
      "text/plain": [
       "           cust_id\n",
       "location          \n",
       "dairy     0.287576\n",
       "drinks    0.153526\n",
       "fruit     0.377435\n",
       "spices    0.181464"
      ],
      "text/html": "<div>\n<style scoped>\n    .dataframe tbody tr th:only-of-type {\n        vertical-align: middle;\n    }\n\n    .dataframe tbody tr th {\n        vertical-align: top;\n    }\n\n    .dataframe thead th {\n        text-align: right;\n    }\n</style>\n<table border=\"1\" class=\"dataframe\">\n  <thead>\n    <tr style=\"text-align: right;\">\n      <th></th>\n      <th>cust_id</th>\n    </tr>\n    <tr>\n      <th>location</th>\n      <th></th>\n    </tr>\n  </thead>\n  <tbody>\n    <tr>\n      <th>dairy</th>\n      <td>0.287576</td>\n    </tr>\n    <tr>\n      <th>drinks</th>\n      <td>0.153526</td>\n    </tr>\n    <tr>\n      <th>fruit</th>\n      <td>0.377435</td>\n    </tr>\n    <tr>\n      <th>spices</th>\n      <td>0.181464</td>\n    </tr>\n  </tbody>\n</table>\n</div>"
     },
     "metadata": {},
     "execution_count": 10
    }
   ],
   "source": [
    "total_entries = sum(customers_in_first_sections['cust_id'].to_list())\n",
    "first_probabilities = customers_in_first_sections / total_entries\n",
    "first_probabilities"
   ]
  },
  {
   "cell_type": "markdown",
   "metadata": {},
   "source": [
    "### 1. The total number of customers in each location"
   ]
  },
  {
   "cell_type": "code",
   "execution_count": 11,
   "metadata": {},
   "outputs": [
    {
     "output_type": "execute_result",
     "data": {
      "text/plain": [
       "          cust_id\n",
       "location         \n",
       "spices       3754\n",
       "drinks       3905\n",
       "dairy        4679\n",
       "fruit        5122\n",
       "checkout     7445"
      ],
      "text/html": "<div>\n<style scoped>\n    .dataframe tbody tr th:only-of-type {\n        vertical-align: middle;\n    }\n\n    .dataframe tbody tr th {\n        vertical-align: top;\n    }\n\n    .dataframe thead th {\n        text-align: right;\n    }\n</style>\n<table border=\"1\" class=\"dataframe\">\n  <thead>\n    <tr style=\"text-align: right;\">\n      <th></th>\n      <th>cust_id</th>\n    </tr>\n    <tr>\n      <th>location</th>\n      <th></th>\n    </tr>\n  </thead>\n  <tbody>\n    <tr>\n      <th>spices</th>\n      <td>3754</td>\n    </tr>\n    <tr>\n      <th>drinks</th>\n      <td>3905</td>\n    </tr>\n    <tr>\n      <th>dairy</th>\n      <td>4679</td>\n    </tr>\n    <tr>\n      <th>fruit</th>\n      <td>5122</td>\n    </tr>\n    <tr>\n      <th>checkout</th>\n      <td>7445</td>\n    </tr>\n  </tbody>\n</table>\n</div>"
     },
     "metadata": {},
     "execution_count": 11
    }
   ],
   "source": [
    "location_sum = df.groupby('location')[['cust_id']].count().sort_values('cust_id')\n",
    "location_sum"
   ]
  },
  {
   "cell_type": "code",
   "execution_count": 12,
   "metadata": {},
   "outputs": [
    {
     "output_type": "execute_result",
     "data": {
      "text/plain": [
       "          cust_id\n",
       "location         \n",
       "spices        751\n",
       "drinks        781\n",
       "dairy         936\n",
       "fruit        1024\n",
       "checkout     1489"
      ],
      "text/html": "<div>\n<style scoped>\n    .dataframe tbody tr th:only-of-type {\n        vertical-align: middle;\n    }\n\n    .dataframe tbody tr th {\n        vertical-align: top;\n    }\n\n    .dataframe thead th {\n        text-align: right;\n    }\n</style>\n<table border=\"1\" class=\"dataframe\">\n  <thead>\n    <tr style=\"text-align: right;\">\n      <th></th>\n      <th>cust_id</th>\n    </tr>\n    <tr>\n      <th>location</th>\n      <th></th>\n    </tr>\n  </thead>\n  <tbody>\n    <tr>\n      <th>spices</th>\n      <td>751</td>\n    </tr>\n    <tr>\n      <th>drinks</th>\n      <td>781</td>\n    </tr>\n    <tr>\n      <th>dairy</th>\n      <td>936</td>\n    </tr>\n    <tr>\n      <th>fruit</th>\n      <td>1024</td>\n    </tr>\n    <tr>\n      <th>checkout</th>\n      <td>1489</td>\n    </tr>\n  </tbody>\n</table>\n</div>"
     },
     "metadata": {},
     "execution_count": 12
    }
   ],
   "source": [
    "# daily average of customer per location\n",
    "location_avg = round(location_sum / 5, 0).astype(int)\n",
    "location_avg"
   ]
  },
  {
   "cell_type": "markdown",
   "metadata": {},
   "source": [
    "### 2. Number of customer per location over time"
   ]
  },
  {
   "cell_type": "code",
   "execution_count": 13,
   "metadata": {},
   "outputs": [
    {
     "output_type": "execute_result",
     "data": {
      "text/plain": [
       "                   cust_id\n",
       "time     location         \n",
       "07:00:00 dairy           3\n",
       "         drinks          3\n",
       "         fruit           4\n",
       "07:01:00 checkout        2\n",
       "         dairy           4\n",
       "...                    ...\n",
       "21:50:00 dairy           3\n",
       "         drinks          1\n",
       "         fruit           2\n",
       "         spices          1\n",
       "21:51:00 checkout       20\n",
       "\n",
       "[4384 rows x 1 columns]"
      ],
      "text/html": "<div>\n<style scoped>\n    .dataframe tbody tr th:only-of-type {\n        vertical-align: middle;\n    }\n\n    .dataframe tbody tr th {\n        vertical-align: top;\n    }\n\n    .dataframe thead th {\n        text-align: right;\n    }\n</style>\n<table border=\"1\" class=\"dataframe\">\n  <thead>\n    <tr style=\"text-align: right;\">\n      <th></th>\n      <th></th>\n      <th>cust_id</th>\n    </tr>\n    <tr>\n      <th>time</th>\n      <th>location</th>\n      <th></th>\n    </tr>\n  </thead>\n  <tbody>\n    <tr>\n      <th rowspan=\"3\" valign=\"top\">07:00:00</th>\n      <th>dairy</th>\n      <td>3</td>\n    </tr>\n    <tr>\n      <th>drinks</th>\n      <td>3</td>\n    </tr>\n    <tr>\n      <th>fruit</th>\n      <td>4</td>\n    </tr>\n    <tr>\n      <th rowspan=\"2\" valign=\"top\">07:01:00</th>\n      <th>checkout</th>\n      <td>2</td>\n    </tr>\n    <tr>\n      <th>dairy</th>\n      <td>4</td>\n    </tr>\n    <tr>\n      <th>...</th>\n      <th>...</th>\n      <td>...</td>\n    </tr>\n    <tr>\n      <th rowspan=\"4\" valign=\"top\">21:50:00</th>\n      <th>dairy</th>\n      <td>3</td>\n    </tr>\n    <tr>\n      <th>drinks</th>\n      <td>1</td>\n    </tr>\n    <tr>\n      <th>fruit</th>\n      <td>2</td>\n    </tr>\n    <tr>\n      <th>spices</th>\n      <td>1</td>\n    </tr>\n    <tr>\n      <th>21:51:00</th>\n      <th>checkout</th>\n      <td>20</td>\n    </tr>\n  </tbody>\n</table>\n<p>4384 rows × 1 columns</p>\n</div>"
     },
     "metadata": {},
     "execution_count": 13
    }
   ],
   "source": [
    "# Weekly number of customer per location per min\n",
    "df.groupby(['time', 'location'])[['cust_id']].count()"
   ]
  },
  {
   "cell_type": "code",
   "execution_count": 14,
   "metadata": {},
   "outputs": [
    {
     "output_type": "execute_result",
     "data": {
      "text/plain": [
       "                   cust_id\n",
       "time     location         \n",
       "07:00:00 dairy         0.6\n",
       "         drinks        0.6\n",
       "         fruit         0.8\n",
       "07:01:00 checkout      0.4\n",
       "         dairy         0.8\n",
       "...                    ...\n",
       "21:50:00 dairy         0.6\n",
       "         drinks        0.2\n",
       "         fruit         0.4\n",
       "         spices        0.2\n",
       "21:51:00 checkout      4.0\n",
       "\n",
       "[4384 rows x 1 columns]"
      ],
      "text/html": "<div>\n<style scoped>\n    .dataframe tbody tr th:only-of-type {\n        vertical-align: middle;\n    }\n\n    .dataframe tbody tr th {\n        vertical-align: top;\n    }\n\n    .dataframe thead th {\n        text-align: right;\n    }\n</style>\n<table border=\"1\" class=\"dataframe\">\n  <thead>\n    <tr style=\"text-align: right;\">\n      <th></th>\n      <th></th>\n      <th>cust_id</th>\n    </tr>\n    <tr>\n      <th>time</th>\n      <th>location</th>\n      <th></th>\n    </tr>\n  </thead>\n  <tbody>\n    <tr>\n      <th rowspan=\"3\" valign=\"top\">07:00:00</th>\n      <th>dairy</th>\n      <td>0.6</td>\n    </tr>\n    <tr>\n      <th>drinks</th>\n      <td>0.6</td>\n    </tr>\n    <tr>\n      <th>fruit</th>\n      <td>0.8</td>\n    </tr>\n    <tr>\n      <th rowspan=\"2\" valign=\"top\">07:01:00</th>\n      <th>checkout</th>\n      <td>0.4</td>\n    </tr>\n    <tr>\n      <th>dairy</th>\n      <td>0.8</td>\n    </tr>\n    <tr>\n      <th>...</th>\n      <th>...</th>\n      <td>...</td>\n    </tr>\n    <tr>\n      <th rowspan=\"4\" valign=\"top\">21:50:00</th>\n      <th>dairy</th>\n      <td>0.6</td>\n    </tr>\n    <tr>\n      <th>drinks</th>\n      <td>0.2</td>\n    </tr>\n    <tr>\n      <th>fruit</th>\n      <td>0.4</td>\n    </tr>\n    <tr>\n      <th>spices</th>\n      <td>0.2</td>\n    </tr>\n    <tr>\n      <th>21:51:00</th>\n      <th>checkout</th>\n      <td>4.0</td>\n    </tr>\n  </tbody>\n</table>\n<p>4384 rows × 1 columns</p>\n</div>"
     },
     "metadata": {},
     "execution_count": 14
    }
   ],
   "source": [
    "# Average (daily) customer per min per location\n",
    "avg_customers_location = df.groupby(['time', 'location'])[['cust_id']].count()/5\n",
    "avg_customers_location"
   ]
  },
  {
   "cell_type": "code",
   "execution_count": 15,
   "metadata": {},
   "outputs": [
    {
     "output_type": "execute_result",
     "data": {
      "text/plain": [
       "                              cust_id\n",
       "timestamp           location         \n",
       "2019-09-02 07:03:00 dairy           2\n",
       "2019-09-02 07:04:00 dairy           2\n",
       "                    fruit           1\n",
       "                    spices          3\n",
       "2019-09-02 07:05:00 checkout        2\n",
       "...                               ...\n",
       "2019-09-06 21:50:00 dairy           1\n",
       "                    drinks          1\n",
       "                    fruit           1\n",
       "                    spices          1\n",
       "2019-09-06 21:51:00 checkout        8\n",
       "\n",
       "[13844 rows x 1 columns]"
      ],
      "text/html": "<div>\n<style scoped>\n    .dataframe tbody tr th:only-of-type {\n        vertical-align: middle;\n    }\n\n    .dataframe tbody tr th {\n        vertical-align: top;\n    }\n\n    .dataframe thead th {\n        text-align: right;\n    }\n</style>\n<table border=\"1\" class=\"dataframe\">\n  <thead>\n    <tr style=\"text-align: right;\">\n      <th></th>\n      <th></th>\n      <th>cust_id</th>\n    </tr>\n    <tr>\n      <th>timestamp</th>\n      <th>location</th>\n      <th></th>\n    </tr>\n  </thead>\n  <tbody>\n    <tr>\n      <th>2019-09-02 07:03:00</th>\n      <th>dairy</th>\n      <td>2</td>\n    </tr>\n    <tr>\n      <th rowspan=\"3\" valign=\"top\">2019-09-02 07:04:00</th>\n      <th>dairy</th>\n      <td>2</td>\n    </tr>\n    <tr>\n      <th>fruit</th>\n      <td>1</td>\n    </tr>\n    <tr>\n      <th>spices</th>\n      <td>3</td>\n    </tr>\n    <tr>\n      <th>2019-09-02 07:05:00</th>\n      <th>checkout</th>\n      <td>2</td>\n    </tr>\n    <tr>\n      <th>...</th>\n      <th>...</th>\n      <td>...</td>\n    </tr>\n    <tr>\n      <th rowspan=\"4\" valign=\"top\">2019-09-06 21:50:00</th>\n      <th>dairy</th>\n      <td>1</td>\n    </tr>\n    <tr>\n      <th>drinks</th>\n      <td>1</td>\n    </tr>\n    <tr>\n      <th>fruit</th>\n      <td>1</td>\n    </tr>\n    <tr>\n      <th>spices</th>\n      <td>1</td>\n    </tr>\n    <tr>\n      <th>2019-09-06 21:51:00</th>\n      <th>checkout</th>\n      <td>8</td>\n    </tr>\n  </tbody>\n</table>\n<p>13844 rows × 1 columns</p>\n</div>"
     },
     "metadata": {},
     "execution_count": 15
    }
   ],
   "source": [
    "# total number of customers per min per location\n",
    "customers_location = df.groupby([df.index, 'location'])[['cust_id']].count()\n",
    "customers_location"
   ]
  },
  {
   "cell_type": "markdown",
   "metadata": {},
   "source": [
    "### 3. Number of customers at checkout over time"
   ]
  },
  {
   "cell_type": "code",
   "execution_count": 16,
   "metadata": {},
   "outputs": [
    {
     "output_type": "execute_result",
     "data": {
      "text/plain": [
       "                              cust_id\n",
       "timestamp           location         \n",
       "2019-09-02 07:05:00 checkout        2\n",
       "2019-09-02 07:06:00 checkout        2\n",
       "2019-09-02 07:07:00 checkout        1\n",
       "2019-09-02 07:08:00 checkout        3\n",
       "2019-09-02 07:09:00 checkout        1\n",
       "...                               ...\n",
       "2019-09-06 21:45:00 checkout        1\n",
       "2019-09-06 21:47:00 checkout        2\n",
       "2019-09-06 21:48:00 checkout        2\n",
       "2019-09-06 21:50:00 checkout        2\n",
       "2019-09-06 21:51:00 checkout        8\n",
       "\n",
       "[3465 rows x 1 columns]"
      ],
      "text/html": "<div>\n<style scoped>\n    .dataframe tbody tr th:only-of-type {\n        vertical-align: middle;\n    }\n\n    .dataframe tbody tr th {\n        vertical-align: top;\n    }\n\n    .dataframe thead th {\n        text-align: right;\n    }\n</style>\n<table border=\"1\" class=\"dataframe\">\n  <thead>\n    <tr style=\"text-align: right;\">\n      <th></th>\n      <th></th>\n      <th>cust_id</th>\n    </tr>\n    <tr>\n      <th>timestamp</th>\n      <th>location</th>\n      <th></th>\n    </tr>\n  </thead>\n  <tbody>\n    <tr>\n      <th>2019-09-02 07:05:00</th>\n      <th>checkout</th>\n      <td>2</td>\n    </tr>\n    <tr>\n      <th>2019-09-02 07:06:00</th>\n      <th>checkout</th>\n      <td>2</td>\n    </tr>\n    <tr>\n      <th>2019-09-02 07:07:00</th>\n      <th>checkout</th>\n      <td>1</td>\n    </tr>\n    <tr>\n      <th>2019-09-02 07:08:00</th>\n      <th>checkout</th>\n      <td>3</td>\n    </tr>\n    <tr>\n      <th>2019-09-02 07:09:00</th>\n      <th>checkout</th>\n      <td>1</td>\n    </tr>\n    <tr>\n      <th>...</th>\n      <th>...</th>\n      <td>...</td>\n    </tr>\n    <tr>\n      <th>2019-09-06 21:45:00</th>\n      <th>checkout</th>\n      <td>1</td>\n    </tr>\n    <tr>\n      <th>2019-09-06 21:47:00</th>\n      <th>checkout</th>\n      <td>2</td>\n    </tr>\n    <tr>\n      <th>2019-09-06 21:48:00</th>\n      <th>checkout</th>\n      <td>2</td>\n    </tr>\n    <tr>\n      <th>2019-09-06 21:50:00</th>\n      <th>checkout</th>\n      <td>2</td>\n    </tr>\n    <tr>\n      <th>2019-09-06 21:51:00</th>\n      <th>checkout</th>\n      <td>8</td>\n    </tr>\n  </tbody>\n</table>\n<p>3465 rows × 1 columns</p>\n</div>"
     },
     "metadata": {},
     "execution_count": 16
    }
   ],
   "source": [
    "# Weekly number of customers at checkout over the time\n",
    "checkout = df[df['location'] == 'checkout']\n",
    "checkout.groupby(['timestamp', 'location'])[['cust_id']].count()"
   ]
  },
  {
   "cell_type": "code",
   "execution_count": 17,
   "metadata": {},
   "outputs": [
    {
     "output_type": "execute_result",
     "data": {
      "text/plain": [
       "                   cust_id\n",
       "time     location         \n",
       "07:01:00 checkout      0.4\n",
       "07:02:00 checkout      1.0\n",
       "07:03:00 checkout      0.2\n",
       "07:04:00 checkout      0.4\n",
       "07:05:00 checkout      1.4\n",
       "...                    ...\n",
       "21:47:00 checkout      1.0\n",
       "21:48:00 checkout      1.4\n",
       "21:49:00 checkout      1.2\n",
       "21:50:00 checkout      2.0\n",
       "21:51:00 checkout      4.0\n",
       "\n",
       "[891 rows x 1 columns]"
      ],
      "text/html": "<div>\n<style scoped>\n    .dataframe tbody tr th:only-of-type {\n        vertical-align: middle;\n    }\n\n    .dataframe tbody tr th {\n        vertical-align: top;\n    }\n\n    .dataframe thead th {\n        text-align: right;\n    }\n</style>\n<table border=\"1\" class=\"dataframe\">\n  <thead>\n    <tr style=\"text-align: right;\">\n      <th></th>\n      <th></th>\n      <th>cust_id</th>\n    </tr>\n    <tr>\n      <th>time</th>\n      <th>location</th>\n      <th></th>\n    </tr>\n  </thead>\n  <tbody>\n    <tr>\n      <th>07:01:00</th>\n      <th>checkout</th>\n      <td>0.4</td>\n    </tr>\n    <tr>\n      <th>07:02:00</th>\n      <th>checkout</th>\n      <td>1.0</td>\n    </tr>\n    <tr>\n      <th>07:03:00</th>\n      <th>checkout</th>\n      <td>0.2</td>\n    </tr>\n    <tr>\n      <th>07:04:00</th>\n      <th>checkout</th>\n      <td>0.4</td>\n    </tr>\n    <tr>\n      <th>07:05:00</th>\n      <th>checkout</th>\n      <td>1.4</td>\n    </tr>\n    <tr>\n      <th>...</th>\n      <th>...</th>\n      <td>...</td>\n    </tr>\n    <tr>\n      <th>21:47:00</th>\n      <th>checkout</th>\n      <td>1.0</td>\n    </tr>\n    <tr>\n      <th>21:48:00</th>\n      <th>checkout</th>\n      <td>1.4</td>\n    </tr>\n    <tr>\n      <th>21:49:00</th>\n      <th>checkout</th>\n      <td>1.2</td>\n    </tr>\n    <tr>\n      <th>21:50:00</th>\n      <th>checkout</th>\n      <td>2.0</td>\n    </tr>\n    <tr>\n      <th>21:51:00</th>\n      <th>checkout</th>\n      <td>4.0</td>\n    </tr>\n  </tbody>\n</table>\n<p>891 rows × 1 columns</p>\n</div>"
     },
     "metadata": {},
     "execution_count": 17
    }
   ],
   "source": [
    "# daily number of customers at checkout over the time\n",
    "checkout.groupby(['time', 'location'])[['cust_id']].count()/5"
   ]
  },
  {
   "cell_type": "markdown",
   "metadata": {},
   "source": [
    "### 4. Time spent in the supermarket"
   ]
  },
  {
   "cell_type": "code",
   "execution_count": 18,
   "metadata": {},
   "outputs": [
    {
     "output_type": "execute_result",
     "data": {
      "text/plain": [
       "              entrance_time\n",
       "cust_id                    \n",
       "m_1     2019-09-02 07:03:00\n",
       "m_2     2019-09-02 07:03:00\n",
       "m_4     2019-09-02 07:04:00\n",
       "m_3     2019-09-02 07:04:00\n",
       "m_5     2019-09-02 07:04:00\n",
       "...                     ...\n",
       "fr_1506 2019-09-06 21:48:00\n",
       "fr_1507 2019-09-06 21:48:00\n",
       "fr_1508 2019-09-06 21:48:00\n",
       "fr_1510 2019-09-06 21:50:00\n",
       "fr_1509 2019-09-06 21:50:00\n",
       "\n",
       "[7445 rows x 1 columns]"
      ],
      "text/html": "<div>\n<style scoped>\n    .dataframe tbody tr th:only-of-type {\n        vertical-align: middle;\n    }\n\n    .dataframe tbody tr th {\n        vertical-align: top;\n    }\n\n    .dataframe thead th {\n        text-align: right;\n    }\n</style>\n<table border=\"1\" class=\"dataframe\">\n  <thead>\n    <tr style=\"text-align: right;\">\n      <th></th>\n      <th>entrance_time</th>\n    </tr>\n    <tr>\n      <th>cust_id</th>\n      <th></th>\n    </tr>\n  </thead>\n  <tbody>\n    <tr>\n      <th>m_1</th>\n      <td>2019-09-02 07:03:00</td>\n    </tr>\n    <tr>\n      <th>m_2</th>\n      <td>2019-09-02 07:03:00</td>\n    </tr>\n    <tr>\n      <th>m_4</th>\n      <td>2019-09-02 07:04:00</td>\n    </tr>\n    <tr>\n      <th>m_3</th>\n      <td>2019-09-02 07:04:00</td>\n    </tr>\n    <tr>\n      <th>m_5</th>\n      <td>2019-09-02 07:04:00</td>\n    </tr>\n    <tr>\n      <th>...</th>\n      <td>...</td>\n    </tr>\n    <tr>\n      <th>fr_1506</th>\n      <td>2019-09-06 21:48:00</td>\n    </tr>\n    <tr>\n      <th>fr_1507</th>\n      <td>2019-09-06 21:48:00</td>\n    </tr>\n    <tr>\n      <th>fr_1508</th>\n      <td>2019-09-06 21:48:00</td>\n    </tr>\n    <tr>\n      <th>fr_1510</th>\n      <td>2019-09-06 21:50:00</td>\n    </tr>\n    <tr>\n      <th>fr_1509</th>\n      <td>2019-09-06 21:50:00</td>\n    </tr>\n  </tbody>\n</table>\n<p>7445 rows × 1 columns</p>\n</div>"
     },
     "metadata": {},
     "execution_count": 18
    }
   ],
   "source": [
    "# making a df with customer_id and time at first location\n",
    "first_location = df.reset_index()[['timestamp', 'cust_id']].groupby('cust_id').min()\n",
    "first_location.rename(columns={'timestamp': 'entrance_time'}, inplace=True)\n",
    "first_location.sort_values('entrance_time')"
   ]
  },
  {
   "cell_type": "code",
   "execution_count": 19,
   "metadata": {},
   "outputs": [
    {
     "output_type": "execute_result",
     "data": {
      "text/plain": [
       "                  exit_time\n",
       "cust_id                    \n",
       "m_1     2019-09-02 07:05:00\n",
       "m_5     2019-09-02 07:05:00\n",
       "m_3     2019-09-02 07:06:00\n",
       "m_2     2019-09-02 07:06:00\n",
       "m_8     2019-09-02 07:07:00\n",
       "...                     ...\n",
       "fr_1503 2019-09-06 21:51:00\n",
       "fr_1494 2019-09-06 21:51:00\n",
       "fr_1505 2019-09-06 21:51:00\n",
       "fr_1506 2019-09-06 21:51:00\n",
       "fr_1500 2019-09-06 21:51:00\n",
       "\n",
       "[7445 rows x 1 columns]"
      ],
      "text/html": "<div>\n<style scoped>\n    .dataframe tbody tr th:only-of-type {\n        vertical-align: middle;\n    }\n\n    .dataframe tbody tr th {\n        vertical-align: top;\n    }\n\n    .dataframe thead th {\n        text-align: right;\n    }\n</style>\n<table border=\"1\" class=\"dataframe\">\n  <thead>\n    <tr style=\"text-align: right;\">\n      <th></th>\n      <th>exit_time</th>\n    </tr>\n    <tr>\n      <th>cust_id</th>\n      <th></th>\n    </tr>\n  </thead>\n  <tbody>\n    <tr>\n      <th>m_1</th>\n      <td>2019-09-02 07:05:00</td>\n    </tr>\n    <tr>\n      <th>m_5</th>\n      <td>2019-09-02 07:05:00</td>\n    </tr>\n    <tr>\n      <th>m_3</th>\n      <td>2019-09-02 07:06:00</td>\n    </tr>\n    <tr>\n      <th>m_2</th>\n      <td>2019-09-02 07:06:00</td>\n    </tr>\n    <tr>\n      <th>m_8</th>\n      <td>2019-09-02 07:07:00</td>\n    </tr>\n    <tr>\n      <th>...</th>\n      <td>...</td>\n    </tr>\n    <tr>\n      <th>fr_1503</th>\n      <td>2019-09-06 21:51:00</td>\n    </tr>\n    <tr>\n      <th>fr_1494</th>\n      <td>2019-09-06 21:51:00</td>\n    </tr>\n    <tr>\n      <th>fr_1505</th>\n      <td>2019-09-06 21:51:00</td>\n    </tr>\n    <tr>\n      <th>fr_1506</th>\n      <td>2019-09-06 21:51:00</td>\n    </tr>\n    <tr>\n      <th>fr_1500</th>\n      <td>2019-09-06 21:51:00</td>\n    </tr>\n  </tbody>\n</table>\n<p>7445 rows × 1 columns</p>\n</div>"
     },
     "metadata": {},
     "execution_count": 19
    }
   ],
   "source": [
    "# making a df with customer_id and time at checkout\n",
    "checkout = df.reset_index()[['timestamp', 'cust_id']].groupby('cust_id').max()\n",
    "checkout.rename(columns={'timestamp': 'exit_time'}, inplace=True)\n",
    "checkout.sort_values('exit_time')"
   ]
  },
  {
   "cell_type": "code",
   "execution_count": 20,
   "metadata": {},
   "outputs": [
    {
     "output_type": "execute_result",
     "data": {
      "text/plain": [
       "              entrance_time           exit_time      total_time\n",
       "cust_id                                                        \n",
       "m_1     2019-09-02 07:03:00 2019-09-02 07:05:00 0 days 00:02:00\n",
       "m_2     2019-09-02 07:03:00 2019-09-02 07:06:00 0 days 00:03:00\n",
       "m_4     2019-09-02 07:04:00 2019-09-02 07:08:00 0 days 00:04:00\n",
       "m_3     2019-09-02 07:04:00 2019-09-02 07:06:00 0 days 00:02:00\n",
       "m_5     2019-09-02 07:04:00 2019-09-02 07:05:00 0 days 00:01:00\n",
       "...                     ...                 ...             ...\n",
       "fr_1506 2019-09-06 21:48:00 2019-09-06 21:51:00 0 days 00:03:00\n",
       "fr_1507 2019-09-06 21:48:00 2019-09-06 21:50:00 0 days 00:02:00\n",
       "fr_1508 2019-09-06 21:48:00 2019-09-06 21:50:00 0 days 00:02:00\n",
       "fr_1510 2019-09-06 21:50:00 2019-09-06 21:51:00 0 days 00:01:00\n",
       "fr_1509 2019-09-06 21:50:00 2019-09-06 21:51:00 0 days 00:01:00\n",
       "\n",
       "[7445 rows x 3 columns]"
      ],
      "text/html": "<div>\n<style scoped>\n    .dataframe tbody tr th:only-of-type {\n        vertical-align: middle;\n    }\n\n    .dataframe tbody tr th {\n        vertical-align: top;\n    }\n\n    .dataframe thead th {\n        text-align: right;\n    }\n</style>\n<table border=\"1\" class=\"dataframe\">\n  <thead>\n    <tr style=\"text-align: right;\">\n      <th></th>\n      <th>entrance_time</th>\n      <th>exit_time</th>\n      <th>total_time</th>\n    </tr>\n    <tr>\n      <th>cust_id</th>\n      <th></th>\n      <th></th>\n      <th></th>\n    </tr>\n  </thead>\n  <tbody>\n    <tr>\n      <th>m_1</th>\n      <td>2019-09-02 07:03:00</td>\n      <td>2019-09-02 07:05:00</td>\n      <td>0 days 00:02:00</td>\n    </tr>\n    <tr>\n      <th>m_2</th>\n      <td>2019-09-02 07:03:00</td>\n      <td>2019-09-02 07:06:00</td>\n      <td>0 days 00:03:00</td>\n    </tr>\n    <tr>\n      <th>m_4</th>\n      <td>2019-09-02 07:04:00</td>\n      <td>2019-09-02 07:08:00</td>\n      <td>0 days 00:04:00</td>\n    </tr>\n    <tr>\n      <th>m_3</th>\n      <td>2019-09-02 07:04:00</td>\n      <td>2019-09-02 07:06:00</td>\n      <td>0 days 00:02:00</td>\n    </tr>\n    <tr>\n      <th>m_5</th>\n      <td>2019-09-02 07:04:00</td>\n      <td>2019-09-02 07:05:00</td>\n      <td>0 days 00:01:00</td>\n    </tr>\n    <tr>\n      <th>...</th>\n      <td>...</td>\n      <td>...</td>\n      <td>...</td>\n    </tr>\n    <tr>\n      <th>fr_1506</th>\n      <td>2019-09-06 21:48:00</td>\n      <td>2019-09-06 21:51:00</td>\n      <td>0 days 00:03:00</td>\n    </tr>\n    <tr>\n      <th>fr_1507</th>\n      <td>2019-09-06 21:48:00</td>\n      <td>2019-09-06 21:50:00</td>\n      <td>0 days 00:02:00</td>\n    </tr>\n    <tr>\n      <th>fr_1508</th>\n      <td>2019-09-06 21:48:00</td>\n      <td>2019-09-06 21:50:00</td>\n      <td>0 days 00:02:00</td>\n    </tr>\n    <tr>\n      <th>fr_1510</th>\n      <td>2019-09-06 21:50:00</td>\n      <td>2019-09-06 21:51:00</td>\n      <td>0 days 00:01:00</td>\n    </tr>\n    <tr>\n      <th>fr_1509</th>\n      <td>2019-09-06 21:50:00</td>\n      <td>2019-09-06 21:51:00</td>\n      <td>0 days 00:01:00</td>\n    </tr>\n  </tbody>\n</table>\n<p>7445 rows × 3 columns</p>\n</div>"
     },
     "metadata": {},
     "execution_count": 20
    }
   ],
   "source": [
    "time_in_market = pd.concat([first_location, checkout], axis=1)\n",
    "time_in_market['total_time'] = (time_in_market['exit_time'] - time_in_market['entrance_time'])\n",
    "time_in_market.sort_values('entrance_time')"
   ]
  },
  {
   "cell_type": "markdown",
   "metadata": {},
   "source": [
    "### 5. Total number of customers present in the supermarket over time"
   ]
  },
  {
   "cell_type": "markdown",
   "metadata": {},
   "source": [
    "#### Tracking the location of each customer per minute\n",
    "Special Thanks to Paul and Stefan"
   ]
  },
  {
   "cell_type": "code",
   "execution_count": 21,
   "metadata": {},
   "outputs": [],
   "source": [
    "df_final = df.groupby(['cust_id']).resample('min').ffill()\n",
    "df_final"
   ]
  },
  {
   "cell_type": "markdown",
   "metadata": {},
   "source": [
    "Checking the old and new data to see if it works \n",
    "It works perfectly -> I would add billions of happy emojies but I don't know how"
   ]
  },
  {
   "cell_type": "code",
   "execution_count": null,
   "metadata": {},
   "outputs": [],
   "source": [
    "df[df['cust_id'] == 'fr_1']"
   ]
  },
  {
   "cell_type": "code",
   "execution_count": null,
   "metadata": {},
   "outputs": [],
   "source": [
    "df_final[df_final['cust_id'] == 'fr_1']"
   ]
  },
  {
   "cell_type": "code",
   "execution_count": null,
   "metadata": {},
   "outputs": [],
   "source": [
    "df_final.reset_index(inplace=True, level=0, drop=True)"
   ]
  },
  {
   "cell_type": "code",
   "execution_count": null,
   "metadata": {},
   "outputs": [],
   "source": [
    "df_final"
   ]
  },
  {
   "cell_type": "markdown",
   "metadata": {},
   "source": [
    "### 6. Plotting the distribution of customers of their first visited location Vs. following locations"
   ]
  },
  {
   "cell_type": "code",
   "execution_count": null,
   "metadata": {},
   "outputs": [],
   "source": [
    "df_final.groupby(df_final.index)[['cust_id']].count().plot(figsize=(12,8));"
   ]
  },
  {
   "cell_type": "code",
   "execution_count": null,
   "metadata": {},
   "outputs": [],
   "source": [
    "(df_final.groupby(df_final['time'])[[\"cust_id\"]].count() / 5).plot(figsize=(12, 8));"
   ]
  },
  {
   "cell_type": "code",
   "execution_count": null,
   "metadata": {},
   "outputs": [],
   "source": [
    "# Average (daily) number of customers at first location per minute\n",
    "first = (\n",
    "    df_final[df_final[\"section_order\"] == \"first\"]\n",
    "    .groupby([\"time\"])[[\"cust_id\"]]\n",
    "    .count()\n",
    "    / 5\n",
    ")\n",
    "# Average (daily) number of customers at following locations per minute\n",
    "following = (\n",
    "    df_final[df_final[\"section_order\"] == \"following\"]\n",
    "    .groupby([\"time\"])[[\"cust_id\"]]\n",
    "    .count()\n",
    "    / 5\n",
    ")\n"
   ]
  },
  {
   "cell_type": "code",
   "execution_count": null,
   "metadata": {},
   "outputs": [],
   "source": [
    "first.plot(figsize=(12,8))\n",
    "following.plot(figsize=(12,8));"
   ]
  },
  {
   "cell_type": "markdown",
   "metadata": {},
   "source": [
    "### Adding Revenue to the table"
   ]
  },
  {
   "cell_type": "code",
   "execution_count": null,
   "metadata": {},
   "outputs": [],
   "source": [
    "# Hypothetical revenue per minute per location given by the course material\n",
    "revenues = pd.DataFrame(\n",
    "    {\"location\": [\"fruit\", \"spices\", \"dairy\", \"drinks\"], \"revenue\": [4, 3, 5, 6]}\n",
    ")\n",
    "revenues"
   ]
  },
  {
   "cell_type": "code",
   "execution_count": null,
   "metadata": {},
   "outputs": [],
   "source": [
    "# filling the empty rows of revenue column per location \n",
    "df_final.loc[df_final[\"location\"] == \"fruit\", \"revenue\"] = \"4\"\n",
    "df_final.loc[df_final[\"location\"] == \"spices\", \"revenue\"] = \"3\"\n",
    "df_final.loc[df_final[\"location\"] == \"dairy\", \"revenue\"] = \"5\"\n",
    "df_final.loc[df_final[\"location\"] == \"drinks\", \"revenue\"] = \"6\"\n",
    "df_final.loc[df_final[\"location\"] == \"checkout\", \"revenue\"] = \"0\""
   ]
  },
  {
   "cell_type": "code",
   "execution_count": null,
   "metadata": {},
   "outputs": [],
   "source": [
    "df_final[\"revenue\"] = df_final[\"revenue\"].astype(int)"
   ]
  },
  {
   "cell_type": "code",
   "execution_count": null,
   "metadata": {},
   "outputs": [],
   "source": [
    "df_final"
   ]
  },
  {
   "cell_type": "markdown",
   "metadata": {},
   "source": [
    "### Saving the final version of dataframe into the CSV file \n",
    "* Transition Matrix is calulated in 'transition.py' file"
   ]
  },
  {
   "cell_type": "code",
   "execution_count": null,
   "metadata": {},
   "outputs": [],
   "source": [
    "df_final = df_final.sort_values([\"timestamp\", \"cust_id\"])\n",
    "df_final.to_csv('clean_final.csv')"
   ]
  }
 ],
 "metadata": {
  "kernelspec": {
   "name": "python3",
   "display_name": "Python 3.8.5 64-bit ('base': conda)"
  },
  "language_info": {
   "codemirror_mode": {
    "name": "ipython",
    "version": 3
   },
   "file_extension": ".py",
   "mimetype": "text/x-python",
   "name": "python",
   "nbconvert_exporter": "python",
   "pygments_lexer": "ipython3",
   "version": "3.8.5"
  },
  "interpreter": {
   "hash": "dca0ade3e726a953b501b15e8e990130d2b7799f14cfd9f4271676035ebe5511"
  }
 },
 "nbformat": 4,
 "nbformat_minor": 2
}