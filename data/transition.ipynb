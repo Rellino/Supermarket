{
 "metadata": {
  "language_info": {
   "codemirror_mode": {
    "name": "ipython",
    "version": 3
   },
   "file_extension": ".py",
   "mimetype": "text/x-python",
   "name": "python",
   "nbconvert_exporter": "python",
   "pygments_lexer": "ipython3",
   "version": "3.8.8"
  },
  "orig_nbformat": 2,
  "kernelspec": {
   "name": "python388jvsc74a57bd0dca0ade3e726a953b501b15e8e990130d2b7799f14cfd9f4271676035ebe5511",
   "display_name": "Python 3.8.8 64-bit ('base': conda)"
  }
 },
 "nbformat": 4,
 "nbformat_minor": 2,
 "cells": [
  {
   "cell_type": "code",
   "execution_count": 1,
   "metadata": {},
   "outputs": [],
   "source": [
    "import pandas as pd \n",
    "import numpy as np"
   ]
  },
  {
   "cell_type": "code",
   "execution_count": 2,
   "metadata": {},
   "outputs": [],
   "source": [
    "df = pd.read_csv('clean_final.csv', index_col=0)"
   ]
  },
  {
   "cell_type": "code",
   "execution_count": 3,
   "metadata": {},
   "outputs": [
    {
     "output_type": "execute_result",
     "data": {
      "text/plain": [
       "                     customer_no  location  cust_id      time     day  \\\n",
       "timestamp                                                               \n",
       "2019-09-02 07:03:00            1     dairy      m_1  07:03:00  Monday   \n",
       "2019-09-02 07:03:00            2     dairy      m_2  07:03:00  Monday   \n",
       "2019-09-02 07:04:00            1     dairy      m_1  07:03:00  Monday   \n",
       "2019-09-02 07:04:00            2     dairy      m_2  07:03:00  Monday   \n",
       "2019-09-02 07:04:00            3     dairy      m_3  07:04:00  Monday   \n",
       "...                          ...       ...      ...       ...     ...   \n",
       "2019-09-06 21:50:00         1509    drinks  fr_1509  21:50:00  Friday   \n",
       "2019-09-06 21:50:00         1510    spices  fr_1510  21:50:00  Friday   \n",
       "2019-09-06 21:51:00         1506  checkout  fr_1506  21:51:00  Friday   \n",
       "2019-09-06 21:51:00         1509  checkout  fr_1509  21:51:00  Friday   \n",
       "2019-09-06 21:51:00         1510  checkout  fr_1510  21:51:00  Friday   \n",
       "\n",
       "                    section_order  revenue  \n",
       "timestamp                                   \n",
       "2019-09-02 07:03:00         first        5  \n",
       "2019-09-02 07:03:00         first        5  \n",
       "2019-09-02 07:04:00         first        5  \n",
       "2019-09-02 07:04:00         first        5  \n",
       "2019-09-02 07:04:00         first        5  \n",
       "...                           ...      ...  \n",
       "2019-09-06 21:50:00         first        6  \n",
       "2019-09-06 21:50:00         first        3  \n",
       "2019-09-06 21:51:00      checkout        0  \n",
       "2019-09-06 21:51:00      checkout        0  \n",
       "2019-09-06 21:51:00      checkout        0  \n",
       "\n",
       "[53921 rows x 7 columns]"
      ],
      "text/html": "<div>\n<style scoped>\n    .dataframe tbody tr th:only-of-type {\n        vertical-align: middle;\n    }\n\n    .dataframe tbody tr th {\n        vertical-align: top;\n    }\n\n    .dataframe thead th {\n        text-align: right;\n    }\n</style>\n<table border=\"1\" class=\"dataframe\">\n  <thead>\n    <tr style=\"text-align: right;\">\n      <th></th>\n      <th>customer_no</th>\n      <th>location</th>\n      <th>cust_id</th>\n      <th>time</th>\n      <th>day</th>\n      <th>section_order</th>\n      <th>revenue</th>\n    </tr>\n    <tr>\n      <th>timestamp</th>\n      <th></th>\n      <th></th>\n      <th></th>\n      <th></th>\n      <th></th>\n      <th></th>\n      <th></th>\n    </tr>\n  </thead>\n  <tbody>\n    <tr>\n      <th>2019-09-02 07:03:00</th>\n      <td>1</td>\n      <td>dairy</td>\n      <td>m_1</td>\n      <td>07:03:00</td>\n      <td>Monday</td>\n      <td>first</td>\n      <td>5</td>\n    </tr>\n    <tr>\n      <th>2019-09-02 07:03:00</th>\n      <td>2</td>\n      <td>dairy</td>\n      <td>m_2</td>\n      <td>07:03:00</td>\n      <td>Monday</td>\n      <td>first</td>\n      <td>5</td>\n    </tr>\n    <tr>\n      <th>2019-09-02 07:04:00</th>\n      <td>1</td>\n      <td>dairy</td>\n      <td>m_1</td>\n      <td>07:03:00</td>\n      <td>Monday</td>\n      <td>first</td>\n      <td>5</td>\n    </tr>\n    <tr>\n      <th>2019-09-02 07:04:00</th>\n      <td>2</td>\n      <td>dairy</td>\n      <td>m_2</td>\n      <td>07:03:00</td>\n      <td>Monday</td>\n      <td>first</td>\n      <td>5</td>\n    </tr>\n    <tr>\n      <th>2019-09-02 07:04:00</th>\n      <td>3</td>\n      <td>dairy</td>\n      <td>m_3</td>\n      <td>07:04:00</td>\n      <td>Monday</td>\n      <td>first</td>\n      <td>5</td>\n    </tr>\n    <tr>\n      <th>...</th>\n      <td>...</td>\n      <td>...</td>\n      <td>...</td>\n      <td>...</td>\n      <td>...</td>\n      <td>...</td>\n      <td>...</td>\n    </tr>\n    <tr>\n      <th>2019-09-06 21:50:00</th>\n      <td>1509</td>\n      <td>drinks</td>\n      <td>fr_1509</td>\n      <td>21:50:00</td>\n      <td>Friday</td>\n      <td>first</td>\n      <td>6</td>\n    </tr>\n    <tr>\n      <th>2019-09-06 21:50:00</th>\n      <td>1510</td>\n      <td>spices</td>\n      <td>fr_1510</td>\n      <td>21:50:00</td>\n      <td>Friday</td>\n      <td>first</td>\n      <td>3</td>\n    </tr>\n    <tr>\n      <th>2019-09-06 21:51:00</th>\n      <td>1506</td>\n      <td>checkout</td>\n      <td>fr_1506</td>\n      <td>21:51:00</td>\n      <td>Friday</td>\n      <td>checkout</td>\n      <td>0</td>\n    </tr>\n    <tr>\n      <th>2019-09-06 21:51:00</th>\n      <td>1509</td>\n      <td>checkout</td>\n      <td>fr_1509</td>\n      <td>21:51:00</td>\n      <td>Friday</td>\n      <td>checkout</td>\n      <td>0</td>\n    </tr>\n    <tr>\n      <th>2019-09-06 21:51:00</th>\n      <td>1510</td>\n      <td>checkout</td>\n      <td>fr_1510</td>\n      <td>21:51:00</td>\n      <td>Friday</td>\n      <td>checkout</td>\n      <td>0</td>\n    </tr>\n  </tbody>\n</table>\n<p>53921 rows × 7 columns</p>\n</div>"
     },
     "metadata": {},
     "execution_count": 3
    }
   ],
   "source": [
    "df"
   ]
  },
  {
   "cell_type": "code",
   "execution_count": 6,
   "metadata": {},
   "outputs": [
    {
     "output_type": "execute_result",
     "data": {
      "text/plain": [
       "                     customer_no  location  cust_id      time     day  \\\n",
       "timestamp                                                               \n",
       "2019-09-02 07:03:00            1     dairy      m_1  07:03:00  Monday   \n",
       "2019-09-02 07:03:00            2     dairy      m_2  07:03:00  Monday   \n",
       "2019-09-02 07:04:00            1     dairy      m_1  07:03:00  Monday   \n",
       "2019-09-02 07:04:00            2     dairy      m_2  07:03:00  Monday   \n",
       "2019-09-02 07:04:00            3     dairy      m_3  07:04:00  Monday   \n",
       "...                          ...       ...      ...       ...     ...   \n",
       "2019-09-06 21:50:00         1509    drinks  fr_1509  21:50:00  Friday   \n",
       "2019-09-06 21:50:00         1510    spices  fr_1510  21:50:00  Friday   \n",
       "2019-09-06 21:51:00         1506  checkout  fr_1506  21:51:00  Friday   \n",
       "2019-09-06 21:51:00         1509  checkout  fr_1509  21:51:00  Friday   \n",
       "2019-09-06 21:51:00         1510  checkout  fr_1510  21:51:00  Friday   \n",
       "\n",
       "                    section_order  revenue next_location  \n",
       "timestamp                                                 \n",
       "2019-09-02 07:03:00         first        5         dairy  \n",
       "2019-09-02 07:03:00         first        5         dairy  \n",
       "2019-09-02 07:04:00         first        5         dairy  \n",
       "2019-09-02 07:04:00         first        5         dairy  \n",
       "2019-09-02 07:04:00         first        5         dairy  \n",
       "...                           ...      ...           ...  \n",
       "2019-09-06 21:50:00         first        6        spices  \n",
       "2019-09-06 21:50:00         first        3      checkout  \n",
       "2019-09-06 21:51:00      checkout        0      checkout  \n",
       "2019-09-06 21:51:00      checkout        0      checkout  \n",
       "2019-09-06 21:51:00      checkout        0           NaN  \n",
       "\n",
       "[53921 rows x 8 columns]"
      ],
      "text/html": "<div>\n<style scoped>\n    .dataframe tbody tr th:only-of-type {\n        vertical-align: middle;\n    }\n\n    .dataframe tbody tr th {\n        vertical-align: top;\n    }\n\n    .dataframe thead th {\n        text-align: right;\n    }\n</style>\n<table border=\"1\" class=\"dataframe\">\n  <thead>\n    <tr style=\"text-align: right;\">\n      <th></th>\n      <th>customer_no</th>\n      <th>location</th>\n      <th>cust_id</th>\n      <th>time</th>\n      <th>day</th>\n      <th>section_order</th>\n      <th>revenue</th>\n      <th>next_location</th>\n    </tr>\n    <tr>\n      <th>timestamp</th>\n      <th></th>\n      <th></th>\n      <th></th>\n      <th></th>\n      <th></th>\n      <th></th>\n      <th></th>\n      <th></th>\n    </tr>\n  </thead>\n  <tbody>\n    <tr>\n      <th>2019-09-02 07:03:00</th>\n      <td>1</td>\n      <td>dairy</td>\n      <td>m_1</td>\n      <td>07:03:00</td>\n      <td>Monday</td>\n      <td>first</td>\n      <td>5</td>\n      <td>dairy</td>\n    </tr>\n    <tr>\n      <th>2019-09-02 07:03:00</th>\n      <td>2</td>\n      <td>dairy</td>\n      <td>m_2</td>\n      <td>07:03:00</td>\n      <td>Monday</td>\n      <td>first</td>\n      <td>5</td>\n      <td>dairy</td>\n    </tr>\n    <tr>\n      <th>2019-09-02 07:04:00</th>\n      <td>1</td>\n      <td>dairy</td>\n      <td>m_1</td>\n      <td>07:03:00</td>\n      <td>Monday</td>\n      <td>first</td>\n      <td>5</td>\n      <td>dairy</td>\n    </tr>\n    <tr>\n      <th>2019-09-02 07:04:00</th>\n      <td>2</td>\n      <td>dairy</td>\n      <td>m_2</td>\n      <td>07:03:00</td>\n      <td>Monday</td>\n      <td>first</td>\n      <td>5</td>\n      <td>dairy</td>\n    </tr>\n    <tr>\n      <th>2019-09-02 07:04:00</th>\n      <td>3</td>\n      <td>dairy</td>\n      <td>m_3</td>\n      <td>07:04:00</td>\n      <td>Monday</td>\n      <td>first</td>\n      <td>5</td>\n      <td>dairy</td>\n    </tr>\n    <tr>\n      <th>...</th>\n      <td>...</td>\n      <td>...</td>\n      <td>...</td>\n      <td>...</td>\n      <td>...</td>\n      <td>...</td>\n      <td>...</td>\n      <td>...</td>\n    </tr>\n    <tr>\n      <th>2019-09-06 21:50:00</th>\n      <td>1509</td>\n      <td>drinks</td>\n      <td>fr_1509</td>\n      <td>21:50:00</td>\n      <td>Friday</td>\n      <td>first</td>\n      <td>6</td>\n      <td>spices</td>\n    </tr>\n    <tr>\n      <th>2019-09-06 21:50:00</th>\n      <td>1510</td>\n      <td>spices</td>\n      <td>fr_1510</td>\n      <td>21:50:00</td>\n      <td>Friday</td>\n      <td>first</td>\n      <td>3</td>\n      <td>checkout</td>\n    </tr>\n    <tr>\n      <th>2019-09-06 21:51:00</th>\n      <td>1506</td>\n      <td>checkout</td>\n      <td>fr_1506</td>\n      <td>21:51:00</td>\n      <td>Friday</td>\n      <td>checkout</td>\n      <td>0</td>\n      <td>checkout</td>\n    </tr>\n    <tr>\n      <th>2019-09-06 21:51:00</th>\n      <td>1509</td>\n      <td>checkout</td>\n      <td>fr_1509</td>\n      <td>21:51:00</td>\n      <td>Friday</td>\n      <td>checkout</td>\n      <td>0</td>\n      <td>checkout</td>\n    </tr>\n    <tr>\n      <th>2019-09-06 21:51:00</th>\n      <td>1510</td>\n      <td>checkout</td>\n      <td>fr_1510</td>\n      <td>21:51:00</td>\n      <td>Friday</td>\n      <td>checkout</td>\n      <td>0</td>\n      <td>NaN</td>\n    </tr>\n  </tbody>\n</table>\n<p>53921 rows × 8 columns</p>\n</div>"
     },
     "metadata": {},
     "execution_count": 6
    }
   ],
   "source": [
    "df['next_location'] = df['location'].shift(-1)\n",
    "df"
   ]
  },
  {
   "cell_type": "code",
   "execution_count": 7,
   "metadata": {},
   "outputs": [
    {
     "output_type": "execute_result",
     "data": {
      "text/plain": [
       "next_location  checkout  dairy  drinks  fruit  spices\n",
       "location                                             \n",
       "checkout           1133   2420    1326   1681     865\n",
       "dairy              2455   5869    3313   4126    2016\n",
       "drinks             1395   3172    1780   2264    1115\n",
       "fruit              1616   4246    2210   3136    1504\n",
       "spices              827   2071    1097   1505     778"
      ],
      "text/html": "<div>\n<style scoped>\n    .dataframe tbody tr th:only-of-type {\n        vertical-align: middle;\n    }\n\n    .dataframe tbody tr th {\n        vertical-align: top;\n    }\n\n    .dataframe thead th {\n        text-align: right;\n    }\n</style>\n<table border=\"1\" class=\"dataframe\">\n  <thead>\n    <tr style=\"text-align: right;\">\n      <th>next_location</th>\n      <th>checkout</th>\n      <th>dairy</th>\n      <th>drinks</th>\n      <th>fruit</th>\n      <th>spices</th>\n    </tr>\n    <tr>\n      <th>location</th>\n      <th></th>\n      <th></th>\n      <th></th>\n      <th></th>\n      <th></th>\n    </tr>\n  </thead>\n  <tbody>\n    <tr>\n      <th>checkout</th>\n      <td>1133</td>\n      <td>2420</td>\n      <td>1326</td>\n      <td>1681</td>\n      <td>865</td>\n    </tr>\n    <tr>\n      <th>dairy</th>\n      <td>2455</td>\n      <td>5869</td>\n      <td>3313</td>\n      <td>4126</td>\n      <td>2016</td>\n    </tr>\n    <tr>\n      <th>drinks</th>\n      <td>1395</td>\n      <td>3172</td>\n      <td>1780</td>\n      <td>2264</td>\n      <td>1115</td>\n    </tr>\n    <tr>\n      <th>fruit</th>\n      <td>1616</td>\n      <td>4246</td>\n      <td>2210</td>\n      <td>3136</td>\n      <td>1504</td>\n    </tr>\n    <tr>\n      <th>spices</th>\n      <td>827</td>\n      <td>2071</td>\n      <td>1097</td>\n      <td>1505</td>\n      <td>778</td>\n    </tr>\n  </tbody>\n</table>\n</div>"
     },
     "metadata": {},
     "execution_count": 7
    }
   ],
   "source": [
    "df.groupby('location')['next_location'].value_counts().unstack()"
   ]
  },
  {
   "cell_type": "code",
   "execution_count": 8,
   "metadata": {},
   "outputs": [],
   "source": [
    "df_1 = df[df['location'] != 'checkout'].copy()"
   ]
  },
  {
   "cell_type": "code",
   "execution_count": 9,
   "metadata": {},
   "outputs": [],
   "source": [
    "trans_without_checkout= pd.crosstab(df_1['location'], df_1['next_location'], normalize=0)"
   ]
  },
  {
   "cell_type": "code",
   "execution_count": 10,
   "metadata": {},
   "outputs": [
    {
     "output_type": "execute_result",
     "data": {
      "text/plain": [
       "next_location  checkout     dairy    drinks     fruit    spices\n",
       "location                                                       \n",
       "dairy          0.138084  0.330109  0.186343  0.232072  0.113392\n",
       "drinks         0.143430  0.326136  0.183015  0.232778  0.114641\n",
       "fruit          0.127124  0.334015  0.173851  0.246696  0.118313\n",
       "spices         0.131730  0.329882  0.174737  0.239726  0.123925"
      ],
      "text/html": "<div>\n<style scoped>\n    .dataframe tbody tr th:only-of-type {\n        vertical-align: middle;\n    }\n\n    .dataframe tbody tr th {\n        vertical-align: top;\n    }\n\n    .dataframe thead th {\n        text-align: right;\n    }\n</style>\n<table border=\"1\" class=\"dataframe\">\n  <thead>\n    <tr style=\"text-align: right;\">\n      <th>next_location</th>\n      <th>checkout</th>\n      <th>dairy</th>\n      <th>drinks</th>\n      <th>fruit</th>\n      <th>spices</th>\n    </tr>\n    <tr>\n      <th>location</th>\n      <th></th>\n      <th></th>\n      <th></th>\n      <th></th>\n      <th></th>\n    </tr>\n  </thead>\n  <tbody>\n    <tr>\n      <th>dairy</th>\n      <td>0.138084</td>\n      <td>0.330109</td>\n      <td>0.186343</td>\n      <td>0.232072</td>\n      <td>0.113392</td>\n    </tr>\n    <tr>\n      <th>drinks</th>\n      <td>0.143430</td>\n      <td>0.326136</td>\n      <td>0.183015</td>\n      <td>0.232778</td>\n      <td>0.114641</td>\n    </tr>\n    <tr>\n      <th>fruit</th>\n      <td>0.127124</td>\n      <td>0.334015</td>\n      <td>0.173851</td>\n      <td>0.246696</td>\n      <td>0.118313</td>\n    </tr>\n    <tr>\n      <th>spices</th>\n      <td>0.131730</td>\n      <td>0.329882</td>\n      <td>0.174737</td>\n      <td>0.239726</td>\n      <td>0.123925</td>\n    </tr>\n  </tbody>\n</table>\n</div>"
     },
     "metadata": {},
     "execution_count": 10
    }
   ],
   "source": [
    "trans_without_checkout"
   ]
  },
  {
   "cell_type": "code",
   "execution_count": 11,
   "metadata": {},
   "outputs": [],
   "source": [
    "prob = np.array([1.0,0.0,0.0,0.0,0.0,\n",
    "                0.138084,0.330109,0.186343,0.232072,0.113392,\n",
    "                0.143430,0.326136,0.183015,0.232778,0.114641,\n",
    "                0.127124,0.334015,0.173851,0.246696,0.118313,\n",
    "                0.131730,0.329882,0.174737,0.239726,0.123925\n",
    "                ]).reshape(5,5)\n",
    "trans_matrix = pd.DataFrame(prob,columns=['checkout','dairy','drinks','fruit','spices'],\n",
    "                index=['checkout','dairy','drinks','fruit','spices'])"
   ]
  },
  {
   "cell_type": "code",
   "execution_count": 12,
   "metadata": {},
   "outputs": [
    {
     "output_type": "execute_result",
     "data": {
      "text/plain": [
       "          checkout     dairy    drinks     fruit    spices\n",
       "checkout  1.000000  0.000000  0.000000  0.000000  0.000000\n",
       "dairy     0.138084  0.330109  0.186343  0.232072  0.113392\n",
       "drinks    0.143430  0.326136  0.183015  0.232778  0.114641\n",
       "fruit     0.127124  0.334015  0.173851  0.246696  0.118313\n",
       "spices    0.131730  0.329882  0.174737  0.239726  0.123925"
      ],
      "text/html": "<div>\n<style scoped>\n    .dataframe tbody tr th:only-of-type {\n        vertical-align: middle;\n    }\n\n    .dataframe tbody tr th {\n        vertical-align: top;\n    }\n\n    .dataframe thead th {\n        text-align: right;\n    }\n</style>\n<table border=\"1\" class=\"dataframe\">\n  <thead>\n    <tr style=\"text-align: right;\">\n      <th></th>\n      <th>checkout</th>\n      <th>dairy</th>\n      <th>drinks</th>\n      <th>fruit</th>\n      <th>spices</th>\n    </tr>\n  </thead>\n  <tbody>\n    <tr>\n      <th>checkout</th>\n      <td>1.000000</td>\n      <td>0.000000</td>\n      <td>0.000000</td>\n      <td>0.000000</td>\n      <td>0.000000</td>\n    </tr>\n    <tr>\n      <th>dairy</th>\n      <td>0.138084</td>\n      <td>0.330109</td>\n      <td>0.186343</td>\n      <td>0.232072</td>\n      <td>0.113392</td>\n    </tr>\n    <tr>\n      <th>drinks</th>\n      <td>0.143430</td>\n      <td>0.326136</td>\n      <td>0.183015</td>\n      <td>0.232778</td>\n      <td>0.114641</td>\n    </tr>\n    <tr>\n      <th>fruit</th>\n      <td>0.127124</td>\n      <td>0.334015</td>\n      <td>0.173851</td>\n      <td>0.246696</td>\n      <td>0.118313</td>\n    </tr>\n    <tr>\n      <th>spices</th>\n      <td>0.131730</td>\n      <td>0.329882</td>\n      <td>0.174737</td>\n      <td>0.239726</td>\n      <td>0.123925</td>\n    </tr>\n  </tbody>\n</table>\n</div>"
     },
     "metadata": {},
     "execution_count": 12
    }
   ],
   "source": [
    "trans_matrix"
   ]
  },
  {
   "cell_type": "code",
   "execution_count": 13,
   "metadata": {},
   "outputs": [],
   "source": [
    "entrance = np.identity(1)\n",
    "\n",
    "# Add a random drift term.  We can guarantee that the diagonal terms\n",
    "#     will be larger by specifying a `high` parameter that is < 1.\n",
    "# How much larger depends on that term.  Here, it is 0.25.\n",
    "entrance = entrance + np.random.uniform(low=0. , size=(1, 4))\n",
    "\n",
    "# Lastly, divide by row-wise sum to normalize to 1.\n",
    "entrance = entrance / entrance.sum(axis=1, keepdims=1)\n",
    "\n"
   ]
  },
  {
   "cell_type": "code",
   "execution_count": 63,
   "metadata": {},
   "outputs": [
    {
     "output_type": "execute_result",
     "data": {
      "text/plain": [
       "          cust_id\n",
       "time             \n",
       "07:00:00      5.0\n",
       "07:01:00      7.0\n",
       "07:02:00      4.0\n",
       "07:03:00      8.0\n",
       "07:04:00      6.0\n",
       "...           ...\n",
       "21:46:00      4.0\n",
       "21:47:00      1.0\n",
       "21:48:00      3.0\n",
       "21:49:00      0.0\n",
       "21:50:00      1.0\n",
       "\n",
       "[874 rows x 1 columns]"
      ],
      "text/html": "<div>\n<style scoped>\n    .dataframe tbody tr th:only-of-type {\n        vertical-align: middle;\n    }\n\n    .dataframe tbody tr th {\n        vertical-align: top;\n    }\n\n    .dataframe thead th {\n        text-align: right;\n    }\n</style>\n<table border=\"1\" class=\"dataframe\">\n  <thead>\n    <tr style=\"text-align: right;\">\n      <th></th>\n      <th>cust_id</th>\n    </tr>\n    <tr>\n      <th>time</th>\n      <th></th>\n    </tr>\n  </thead>\n  <tbody>\n    <tr>\n      <th>07:00:00</th>\n      <td>5.0</td>\n    </tr>\n    <tr>\n      <th>07:01:00</th>\n      <td>7.0</td>\n    </tr>\n    <tr>\n      <th>07:02:00</th>\n      <td>4.0</td>\n    </tr>\n    <tr>\n      <th>07:03:00</th>\n      <td>8.0</td>\n    </tr>\n    <tr>\n      <th>07:04:00</th>\n      <td>6.0</td>\n    </tr>\n    <tr>\n      <th>...</th>\n      <td>...</td>\n    </tr>\n    <tr>\n      <th>21:46:00</th>\n      <td>4.0</td>\n    </tr>\n    <tr>\n      <th>21:47:00</th>\n      <td>1.0</td>\n    </tr>\n    <tr>\n      <th>21:48:00</th>\n      <td>3.0</td>\n    </tr>\n    <tr>\n      <th>21:49:00</th>\n      <td>0.0</td>\n    </tr>\n    <tr>\n      <th>21:50:00</th>\n      <td>1.0</td>\n    </tr>\n  </tbody>\n</table>\n<p>874 rows × 1 columns</p>\n</div>"
     },
     "metadata": {},
     "execution_count": 63
    }
   ],
   "source": [
    "entrance_number = (round(\n",
    "    df[df[\"section_order\"] == \"first\"]\n",
    "    .groupby([\"time\"])[[\"cust_id\"]]\n",
    "    .count()\n",
    "    / 5, 0)\n",
    ")\n",
    "entrance_number"
   ]
  },
  {
   "cell_type": "code",
   "execution_count": 61,
   "metadata": {
    "tags": []
   },
   "outputs": [],
   "source": [
    "def get_customer_number(time):\n",
    "    for row, number in zip(entrance_number.index, entrance_number['cust_id']):\n",
    "        if row == time:\n",
    "            return(number)\n",
    "        else:\n",
    "            return('Supermarket is closed')      \n"
   ]
  },
  {
   "cell_type": "code",
   "execution_count": 62,
   "metadata": {},
   "outputs": [
    {
     "output_type": "execute_result",
     "data": {
      "text/plain": [
       "'Supermarket is closed'"
      ]
     },
     "metadata": {},
     "execution_count": 62
    }
   ],
   "source": [
    "get_customer_number('22:03:00')"
   ]
  },
  {
   "cell_type": "code",
   "execution_count": null,
   "metadata": {},
   "outputs": [],
   "source": []
  }
 ]
}