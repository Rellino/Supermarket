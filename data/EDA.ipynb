{
 "metadata": {
  "language_info": {
   "codemirror_mode": {
    "name": "ipython",
    "version": 3
   },
   "file_extension": ".py",
   "mimetype": "text/x-python",
   "name": "python",
   "nbconvert_exporter": "python",
   "pygments_lexer": "ipython3",
   "version": "3.8.8"
  },
  "orig_nbformat": 2,
  "kernelspec": {
   "name": "python388jvsc74a57bd0dca0ade3e726a953b501b15e8e990130d2b7799f14cfd9f4271676035ebe5511",
   "display_name": "Python 3.8.8 64-bit ('base': conda)"
  }
 },
 "nbformat": 4,
 "nbformat_minor": 2,
 "cells": [
  {
   "source": [
    "### Loading the csv files"
   ],
   "cell_type": "markdown",
   "metadata": {}
  },
  {
   "cell_type": "code",
   "execution_count": 2,
   "metadata": {},
   "outputs": [],
   "source": [
    "import pandas as pd\n",
    "import numpy as np\n",
    "import datetime"
   ]
  },
  {
   "cell_type": "code",
   "execution_count": 3,
   "metadata": {},
   "outputs": [
    {
     "output_type": "execute_result",
     "data": {
      "text/plain": [
       "                     customer_no  location\n",
       "timestamp                                 \n",
       "2019-09-02 07:03:00            1     dairy\n",
       "2019-09-02 07:03:00            2     dairy\n",
       "2019-09-02 07:04:00            3     dairy\n",
       "2019-09-02 07:04:00            4     dairy\n",
       "2019-09-02 07:04:00            5    spices\n",
       "...                          ...       ...\n",
       "2019-09-02 21:49:00         1442  checkout\n",
       "2019-09-02 21:49:00         1444  checkout\n",
       "2019-09-02 21:49:00         1445     dairy\n",
       "2019-09-02 21:50:00         1446     dairy\n",
       "2019-09-02 21:50:00         1447     fruit\n",
       "\n",
       "[4884 rows x 2 columns]"
      ],
      "text/html": "<div>\n<style scoped>\n    .dataframe tbody tr th:only-of-type {\n        vertical-align: middle;\n    }\n\n    .dataframe tbody tr th {\n        vertical-align: top;\n    }\n\n    .dataframe thead th {\n        text-align: right;\n    }\n</style>\n<table border=\"1\" class=\"dataframe\">\n  <thead>\n    <tr style=\"text-align: right;\">\n      <th></th>\n      <th>customer_no</th>\n      <th>location</th>\n    </tr>\n    <tr>\n      <th>timestamp</th>\n      <th></th>\n      <th></th>\n    </tr>\n  </thead>\n  <tbody>\n    <tr>\n      <th>2019-09-02 07:03:00</th>\n      <td>1</td>\n      <td>dairy</td>\n    </tr>\n    <tr>\n      <th>2019-09-02 07:03:00</th>\n      <td>2</td>\n      <td>dairy</td>\n    </tr>\n    <tr>\n      <th>2019-09-02 07:04:00</th>\n      <td>3</td>\n      <td>dairy</td>\n    </tr>\n    <tr>\n      <th>2019-09-02 07:04:00</th>\n      <td>4</td>\n      <td>dairy</td>\n    </tr>\n    <tr>\n      <th>2019-09-02 07:04:00</th>\n      <td>5</td>\n      <td>spices</td>\n    </tr>\n    <tr>\n      <th>...</th>\n      <td>...</td>\n      <td>...</td>\n    </tr>\n    <tr>\n      <th>2019-09-02 21:49:00</th>\n      <td>1442</td>\n      <td>checkout</td>\n    </tr>\n    <tr>\n      <th>2019-09-02 21:49:00</th>\n      <td>1444</td>\n      <td>checkout</td>\n    </tr>\n    <tr>\n      <th>2019-09-02 21:49:00</th>\n      <td>1445</td>\n      <td>dairy</td>\n    </tr>\n    <tr>\n      <th>2019-09-02 21:50:00</th>\n      <td>1446</td>\n      <td>dairy</td>\n    </tr>\n    <tr>\n      <th>2019-09-02 21:50:00</th>\n      <td>1447</td>\n      <td>fruit</td>\n    </tr>\n  </tbody>\n</table>\n<p>4884 rows × 2 columns</p>\n</div>"
     },
     "metadata": {},
     "execution_count": 3
    }
   ],
   "source": [
    "mon = pd.read_csv('monday.csv', sep= ';', parse_dates=True, index_col='timestamp' )\n",
    "mon"
   ]
  },
  {
   "cell_type": "code",
   "execution_count": 4,
   "metadata": {},
   "outputs": [
    {
     "output_type": "execute_result",
     "data": {
      "text/plain": [
       "                     customer_no  location\n",
       "timestamp                                 \n",
       "2019-09-02 07:03:00            1     dairy\n",
       "2019-09-02 07:03:00            2     dairy\n",
       "2019-09-02 07:04:00            3     dairy\n",
       "2019-09-02 07:04:00            4     dairy\n",
       "2019-09-02 07:04:00            5    spices\n",
       "...                          ...       ...\n",
       "2019-09-06 21:50:00         1500     dairy\n",
       "2019-09-06 21:50:00         1507  checkout\n",
       "2019-09-06 21:50:00         1508  checkout\n",
       "2019-09-06 21:50:00         1509    drinks\n",
       "2019-09-06 21:50:00         1510    spices\n",
       "\n",
       "[24877 rows x 2 columns]"
      ],
      "text/html": "<div>\n<style scoped>\n    .dataframe tbody tr th:only-of-type {\n        vertical-align: middle;\n    }\n\n    .dataframe tbody tr th {\n        vertical-align: top;\n    }\n\n    .dataframe thead th {\n        text-align: right;\n    }\n</style>\n<table border=\"1\" class=\"dataframe\">\n  <thead>\n    <tr style=\"text-align: right;\">\n      <th></th>\n      <th>customer_no</th>\n      <th>location</th>\n    </tr>\n    <tr>\n      <th>timestamp</th>\n      <th></th>\n      <th></th>\n    </tr>\n  </thead>\n  <tbody>\n    <tr>\n      <th>2019-09-02 07:03:00</th>\n      <td>1</td>\n      <td>dairy</td>\n    </tr>\n    <tr>\n      <th>2019-09-02 07:03:00</th>\n      <td>2</td>\n      <td>dairy</td>\n    </tr>\n    <tr>\n      <th>2019-09-02 07:04:00</th>\n      <td>3</td>\n      <td>dairy</td>\n    </tr>\n    <tr>\n      <th>2019-09-02 07:04:00</th>\n      <td>4</td>\n      <td>dairy</td>\n    </tr>\n    <tr>\n      <th>2019-09-02 07:04:00</th>\n      <td>5</td>\n      <td>spices</td>\n    </tr>\n    <tr>\n      <th>...</th>\n      <td>...</td>\n      <td>...</td>\n    </tr>\n    <tr>\n      <th>2019-09-06 21:50:00</th>\n      <td>1500</td>\n      <td>dairy</td>\n    </tr>\n    <tr>\n      <th>2019-09-06 21:50:00</th>\n      <td>1507</td>\n      <td>checkout</td>\n    </tr>\n    <tr>\n      <th>2019-09-06 21:50:00</th>\n      <td>1508</td>\n      <td>checkout</td>\n    </tr>\n    <tr>\n      <th>2019-09-06 21:50:00</th>\n      <td>1509</td>\n      <td>drinks</td>\n    </tr>\n    <tr>\n      <th>2019-09-06 21:50:00</th>\n      <td>1510</td>\n      <td>spices</td>\n    </tr>\n  </tbody>\n</table>\n<p>24877 rows × 2 columns</p>\n</div>"
     },
     "metadata": {},
     "execution_count": 4
    }
   ],
   "source": [
    "tue = pd.read_csv('tuesday.csv', sep= ';', parse_dates=True, index_col='timestamp' )\n",
    "wed = pd.read_csv('wednesday.csv', sep= ';', parse_dates=True, index_col='timestamp' )\n",
    "thu = pd.read_csv('thursday.csv', sep= ';', parse_dates=True, index_col='timestamp' )\n",
    "fri = pd.read_csv('friday.csv', sep= ';', parse_dates=True, index_col='timestamp' )\n",
    "df = pd.concat([mon,tue, wed,thu,fri], sort=True)\n",
    "df"
   ]
  },
  {
   "source": [
    "### Setting distinct ID for each customer and expanding our table's column\n"
   ],
   "cell_type": "markdown",
   "metadata": {}
  },
  {
   "cell_type": "code",
   "execution_count": 5,
   "metadata": {},
   "outputs": [
    {
     "output_type": "execute_result",
     "data": {
      "text/plain": [
       "                     customer_no  location      time     day  customer_id\n",
       "timestamp                                                                \n",
       "2019-09-02 07:03:00            1     dairy  07:03:00  Monday     Monday-1\n",
       "2019-09-02 07:03:00            2     dairy  07:03:00  Monday     Monday-2\n",
       "2019-09-02 07:04:00            3     dairy  07:04:00  Monday     Monday-3\n",
       "2019-09-02 07:04:00            4     dairy  07:04:00  Monday     Monday-4\n",
       "2019-09-02 07:04:00            5    spices  07:04:00  Monday     Monday-5\n",
       "...                          ...       ...       ...     ...          ...\n",
       "2019-09-06 21:50:00         1500     dairy  21:50:00  Friday  Friday-1500\n",
       "2019-09-06 21:50:00         1507  checkout  21:50:00  Friday  Friday-1507\n",
       "2019-09-06 21:50:00         1508  checkout  21:50:00  Friday  Friday-1508\n",
       "2019-09-06 21:50:00         1509    drinks  21:50:00  Friday  Friday-1509\n",
       "2019-09-06 21:50:00         1510    spices  21:50:00  Friday  Friday-1510\n",
       "\n",
       "[24877 rows x 5 columns]"
      ],
      "text/html": "<div>\n<style scoped>\n    .dataframe tbody tr th:only-of-type {\n        vertical-align: middle;\n    }\n\n    .dataframe tbody tr th {\n        vertical-align: top;\n    }\n\n    .dataframe thead th {\n        text-align: right;\n    }\n</style>\n<table border=\"1\" class=\"dataframe\">\n  <thead>\n    <tr style=\"text-align: right;\">\n      <th></th>\n      <th>customer_no</th>\n      <th>location</th>\n      <th>time</th>\n      <th>day</th>\n      <th>customer_id</th>\n    </tr>\n    <tr>\n      <th>timestamp</th>\n      <th></th>\n      <th></th>\n      <th></th>\n      <th></th>\n      <th></th>\n    </tr>\n  </thead>\n  <tbody>\n    <tr>\n      <th>2019-09-02 07:03:00</th>\n      <td>1</td>\n      <td>dairy</td>\n      <td>07:03:00</td>\n      <td>Monday</td>\n      <td>Monday-1</td>\n    </tr>\n    <tr>\n      <th>2019-09-02 07:03:00</th>\n      <td>2</td>\n      <td>dairy</td>\n      <td>07:03:00</td>\n      <td>Monday</td>\n      <td>Monday-2</td>\n    </tr>\n    <tr>\n      <th>2019-09-02 07:04:00</th>\n      <td>3</td>\n      <td>dairy</td>\n      <td>07:04:00</td>\n      <td>Monday</td>\n      <td>Monday-3</td>\n    </tr>\n    <tr>\n      <th>2019-09-02 07:04:00</th>\n      <td>4</td>\n      <td>dairy</td>\n      <td>07:04:00</td>\n      <td>Monday</td>\n      <td>Monday-4</td>\n    </tr>\n    <tr>\n      <th>2019-09-02 07:04:00</th>\n      <td>5</td>\n      <td>spices</td>\n      <td>07:04:00</td>\n      <td>Monday</td>\n      <td>Monday-5</td>\n    </tr>\n    <tr>\n      <th>...</th>\n      <td>...</td>\n      <td>...</td>\n      <td>...</td>\n      <td>...</td>\n      <td>...</td>\n    </tr>\n    <tr>\n      <th>2019-09-06 21:50:00</th>\n      <td>1500</td>\n      <td>dairy</td>\n      <td>21:50:00</td>\n      <td>Friday</td>\n      <td>Friday-1500</td>\n    </tr>\n    <tr>\n      <th>2019-09-06 21:50:00</th>\n      <td>1507</td>\n      <td>checkout</td>\n      <td>21:50:00</td>\n      <td>Friday</td>\n      <td>Friday-1507</td>\n    </tr>\n    <tr>\n      <th>2019-09-06 21:50:00</th>\n      <td>1508</td>\n      <td>checkout</td>\n      <td>21:50:00</td>\n      <td>Friday</td>\n      <td>Friday-1508</td>\n    </tr>\n    <tr>\n      <th>2019-09-06 21:50:00</th>\n      <td>1509</td>\n      <td>drinks</td>\n      <td>21:50:00</td>\n      <td>Friday</td>\n      <td>Friday-1509</td>\n    </tr>\n    <tr>\n      <th>2019-09-06 21:50:00</th>\n      <td>1510</td>\n      <td>spices</td>\n      <td>21:50:00</td>\n      <td>Friday</td>\n      <td>Friday-1510</td>\n    </tr>\n  </tbody>\n</table>\n<p>24877 rows × 5 columns</p>\n</div>"
     },
     "metadata": {},
     "execution_count": 5
    }
   ],
   "source": [
    "df.sort_index(inplace=True)\n",
    "df['time'] = df.index.time \n",
    "df['day'] = df.index.day_name()\n",
    "df['customer_id'] = df['day']+ '-' + df['customer_no'].astype(str)\n",
    "df"
   ]
  },
  {
   "source": [
    "### Determining the order of states"
   ],
   "cell_type": "markdown",
   "metadata": {}
  },
  {
   "cell_type": "code",
   "execution_count": 6,
   "metadata": {},
   "outputs": [
    {
     "output_type": "execute_result",
     "data": {
      "text/plain": [
       "customer_id\n",
       "Friday-1        2019-09-06 07:00:00\n",
       "Friday-10       2019-09-06 07:06:00\n",
       "Friday-100      2019-09-06 08:03:00\n",
       "Friday-1000     2019-09-06 17:19:00\n",
       "Friday-1001     2019-09-06 17:19:00\n",
       "                        ...        \n",
       "Wednesday-995   2019-09-04 16:52:00\n",
       "Wednesday-996   2019-09-04 16:52:00\n",
       "Wednesday-997   2019-09-04 16:52:00\n",
       "Wednesday-998   2019-09-04 16:53:00\n",
       "Wednesday-999   2019-09-04 16:53:00\n",
       "Name: timestamp, Length: 7445, dtype: datetime64[ns]"
      ]
     },
     "metadata": {},
     "execution_count": 6
    }
   ],
   "source": [
    "# finding the min of time in order to indicate the entrance of each customer into the supermarket\n",
    "entrance = df.reset_index().groupby('customer_id')['timestamp'].min()\n",
    "entrance"
   ]
  },
  {
   "cell_type": "code",
   "execution_count": 7,
   "metadata": {},
   "outputs": [],
   "source": [
    "for customer in df[\"customer_id\"].unique():\n",
    "    df.loc[\n",
    "        (df['customer_id'] == customer) & (df.index == entrance[customer]),\n",
    "        \"section_order\"\n",
    "    ] = \"first\""
   ]
  },
  {
   "cell_type": "code",
   "execution_count": 8,
   "metadata": {},
   "outputs": [],
   "source": [
    "df.loc[df[\"location\"] == \"checkout\", \"section_order\"] = \"checkout\""
   ]
  },
  {
   "cell_type": "code",
   "execution_count": 9,
   "metadata": {},
   "outputs": [
    {
     "output_type": "execute_result",
     "data": {
      "text/plain": [
       "                     customer_no  location      time     day  customer_id  \\\n",
       "timestamp                                                                   \n",
       "2019-09-02 07:03:00            1     dairy  07:03:00  Monday     Monday-1   \n",
       "2019-09-02 07:03:00            2     dairy  07:03:00  Monday     Monday-2   \n",
       "2019-09-02 07:04:00            3     dairy  07:04:00  Monday     Monday-3   \n",
       "2019-09-02 07:04:00            4     dairy  07:04:00  Monday     Monday-4   \n",
       "2019-09-02 07:04:00            5    spices  07:04:00  Monday     Monday-5   \n",
       "...                          ...       ...       ...     ...          ...   \n",
       "2019-09-06 21:50:00         1500     dairy  21:50:00  Friday  Friday-1500   \n",
       "2019-09-06 21:50:00         1507  checkout  21:50:00  Friday  Friday-1507   \n",
       "2019-09-06 21:50:00         1508  checkout  21:50:00  Friday  Friday-1508   \n",
       "2019-09-06 21:50:00         1509    drinks  21:50:00  Friday  Friday-1509   \n",
       "2019-09-06 21:50:00         1510    spices  21:50:00  Friday  Friday-1510   \n",
       "\n",
       "                    section_order  \n",
       "timestamp                          \n",
       "2019-09-02 07:03:00         first  \n",
       "2019-09-02 07:03:00         first  \n",
       "2019-09-02 07:04:00         first  \n",
       "2019-09-02 07:04:00         first  \n",
       "2019-09-02 07:04:00         first  \n",
       "...                           ...  \n",
       "2019-09-06 21:50:00           NaN  \n",
       "2019-09-06 21:50:00      checkout  \n",
       "2019-09-06 21:50:00      checkout  \n",
       "2019-09-06 21:50:00         first  \n",
       "2019-09-06 21:50:00         first  \n",
       "\n",
       "[24877 rows x 6 columns]"
      ],
      "text/html": "<div>\n<style scoped>\n    .dataframe tbody tr th:only-of-type {\n        vertical-align: middle;\n    }\n\n    .dataframe tbody tr th {\n        vertical-align: top;\n    }\n\n    .dataframe thead th {\n        text-align: right;\n    }\n</style>\n<table border=\"1\" class=\"dataframe\">\n  <thead>\n    <tr style=\"text-align: right;\">\n      <th></th>\n      <th>customer_no</th>\n      <th>location</th>\n      <th>time</th>\n      <th>day</th>\n      <th>customer_id</th>\n      <th>section_order</th>\n    </tr>\n    <tr>\n      <th>timestamp</th>\n      <th></th>\n      <th></th>\n      <th></th>\n      <th></th>\n      <th></th>\n      <th></th>\n    </tr>\n  </thead>\n  <tbody>\n    <tr>\n      <th>2019-09-02 07:03:00</th>\n      <td>1</td>\n      <td>dairy</td>\n      <td>07:03:00</td>\n      <td>Monday</td>\n      <td>Monday-1</td>\n      <td>first</td>\n    </tr>\n    <tr>\n      <th>2019-09-02 07:03:00</th>\n      <td>2</td>\n      <td>dairy</td>\n      <td>07:03:00</td>\n      <td>Monday</td>\n      <td>Monday-2</td>\n      <td>first</td>\n    </tr>\n    <tr>\n      <th>2019-09-02 07:04:00</th>\n      <td>3</td>\n      <td>dairy</td>\n      <td>07:04:00</td>\n      <td>Monday</td>\n      <td>Monday-3</td>\n      <td>first</td>\n    </tr>\n    <tr>\n      <th>2019-09-02 07:04:00</th>\n      <td>4</td>\n      <td>dairy</td>\n      <td>07:04:00</td>\n      <td>Monday</td>\n      <td>Monday-4</td>\n      <td>first</td>\n    </tr>\n    <tr>\n      <th>2019-09-02 07:04:00</th>\n      <td>5</td>\n      <td>spices</td>\n      <td>07:04:00</td>\n      <td>Monday</td>\n      <td>Monday-5</td>\n      <td>first</td>\n    </tr>\n    <tr>\n      <th>...</th>\n      <td>...</td>\n      <td>...</td>\n      <td>...</td>\n      <td>...</td>\n      <td>...</td>\n      <td>...</td>\n    </tr>\n    <tr>\n      <th>2019-09-06 21:50:00</th>\n      <td>1500</td>\n      <td>dairy</td>\n      <td>21:50:00</td>\n      <td>Friday</td>\n      <td>Friday-1500</td>\n      <td>NaN</td>\n    </tr>\n    <tr>\n      <th>2019-09-06 21:50:00</th>\n      <td>1507</td>\n      <td>checkout</td>\n      <td>21:50:00</td>\n      <td>Friday</td>\n      <td>Friday-1507</td>\n      <td>checkout</td>\n    </tr>\n    <tr>\n      <th>2019-09-06 21:50:00</th>\n      <td>1508</td>\n      <td>checkout</td>\n      <td>21:50:00</td>\n      <td>Friday</td>\n      <td>Friday-1508</td>\n      <td>checkout</td>\n    </tr>\n    <tr>\n      <th>2019-09-06 21:50:00</th>\n      <td>1509</td>\n      <td>drinks</td>\n      <td>21:50:00</td>\n      <td>Friday</td>\n      <td>Friday-1509</td>\n      <td>first</td>\n    </tr>\n    <tr>\n      <th>2019-09-06 21:50:00</th>\n      <td>1510</td>\n      <td>spices</td>\n      <td>21:50:00</td>\n      <td>Friday</td>\n      <td>Friday-1510</td>\n      <td>first</td>\n    </tr>\n  </tbody>\n</table>\n<p>24877 rows × 6 columns</p>\n</div>"
     },
     "metadata": {},
     "execution_count": 9
    }
   ],
   "source": [
    "df"
   ]
  },
  {
   "cell_type": "code",
   "execution_count": 10,
   "metadata": {},
   "outputs": [],
   "source": [
    "df['section_order'].fillna('following', inplace=True)"
   ]
  },
  {
   "cell_type": "code",
   "execution_count": 11,
   "metadata": {},
   "outputs": [
    {
     "output_type": "execute_result",
     "data": {
      "text/plain": [
       "                     customer_no  location      time     day  customer_id  \\\n",
       "timestamp                                                                   \n",
       "2019-09-02 07:03:00            1     dairy  07:03:00  Monday     Monday-1   \n",
       "2019-09-02 07:03:00            2     dairy  07:03:00  Monday     Monday-2   \n",
       "2019-09-02 07:04:00            3     dairy  07:04:00  Monday     Monday-3   \n",
       "2019-09-02 07:04:00            4     dairy  07:04:00  Monday     Monday-4   \n",
       "2019-09-02 07:04:00            5    spices  07:04:00  Monday     Monday-5   \n",
       "...                          ...       ...       ...     ...          ...   \n",
       "2019-09-06 21:50:00         1500     dairy  21:50:00  Friday  Friday-1500   \n",
       "2019-09-06 21:50:00         1507  checkout  21:50:00  Friday  Friday-1507   \n",
       "2019-09-06 21:50:00         1508  checkout  21:50:00  Friday  Friday-1508   \n",
       "2019-09-06 21:50:00         1509    drinks  21:50:00  Friday  Friday-1509   \n",
       "2019-09-06 21:50:00         1510    spices  21:50:00  Friday  Friday-1510   \n",
       "\n",
       "                    section_order  \n",
       "timestamp                          \n",
       "2019-09-02 07:03:00         first  \n",
       "2019-09-02 07:03:00         first  \n",
       "2019-09-02 07:04:00         first  \n",
       "2019-09-02 07:04:00         first  \n",
       "2019-09-02 07:04:00         first  \n",
       "...                           ...  \n",
       "2019-09-06 21:50:00     following  \n",
       "2019-09-06 21:50:00      checkout  \n",
       "2019-09-06 21:50:00      checkout  \n",
       "2019-09-06 21:50:00         first  \n",
       "2019-09-06 21:50:00         first  \n",
       "\n",
       "[24877 rows x 6 columns]"
      ],
      "text/html": "<div>\n<style scoped>\n    .dataframe tbody tr th:only-of-type {\n        vertical-align: middle;\n    }\n\n    .dataframe tbody tr th {\n        vertical-align: top;\n    }\n\n    .dataframe thead th {\n        text-align: right;\n    }\n</style>\n<table border=\"1\" class=\"dataframe\">\n  <thead>\n    <tr style=\"text-align: right;\">\n      <th></th>\n      <th>customer_no</th>\n      <th>location</th>\n      <th>time</th>\n      <th>day</th>\n      <th>customer_id</th>\n      <th>section_order</th>\n    </tr>\n    <tr>\n      <th>timestamp</th>\n      <th></th>\n      <th></th>\n      <th></th>\n      <th></th>\n      <th></th>\n      <th></th>\n    </tr>\n  </thead>\n  <tbody>\n    <tr>\n      <th>2019-09-02 07:03:00</th>\n      <td>1</td>\n      <td>dairy</td>\n      <td>07:03:00</td>\n      <td>Monday</td>\n      <td>Monday-1</td>\n      <td>first</td>\n    </tr>\n    <tr>\n      <th>2019-09-02 07:03:00</th>\n      <td>2</td>\n      <td>dairy</td>\n      <td>07:03:00</td>\n      <td>Monday</td>\n      <td>Monday-2</td>\n      <td>first</td>\n    </tr>\n    <tr>\n      <th>2019-09-02 07:04:00</th>\n      <td>3</td>\n      <td>dairy</td>\n      <td>07:04:00</td>\n      <td>Monday</td>\n      <td>Monday-3</td>\n      <td>first</td>\n    </tr>\n    <tr>\n      <th>2019-09-02 07:04:00</th>\n      <td>4</td>\n      <td>dairy</td>\n      <td>07:04:00</td>\n      <td>Monday</td>\n      <td>Monday-4</td>\n      <td>first</td>\n    </tr>\n    <tr>\n      <th>2019-09-02 07:04:00</th>\n      <td>5</td>\n      <td>spices</td>\n      <td>07:04:00</td>\n      <td>Monday</td>\n      <td>Monday-5</td>\n      <td>first</td>\n    </tr>\n    <tr>\n      <th>...</th>\n      <td>...</td>\n      <td>...</td>\n      <td>...</td>\n      <td>...</td>\n      <td>...</td>\n      <td>...</td>\n    </tr>\n    <tr>\n      <th>2019-09-06 21:50:00</th>\n      <td>1500</td>\n      <td>dairy</td>\n      <td>21:50:00</td>\n      <td>Friday</td>\n      <td>Friday-1500</td>\n      <td>following</td>\n    </tr>\n    <tr>\n      <th>2019-09-06 21:50:00</th>\n      <td>1507</td>\n      <td>checkout</td>\n      <td>21:50:00</td>\n      <td>Friday</td>\n      <td>Friday-1507</td>\n      <td>checkout</td>\n    </tr>\n    <tr>\n      <th>2019-09-06 21:50:00</th>\n      <td>1508</td>\n      <td>checkout</td>\n      <td>21:50:00</td>\n      <td>Friday</td>\n      <td>Friday-1508</td>\n      <td>checkout</td>\n    </tr>\n    <tr>\n      <th>2019-09-06 21:50:00</th>\n      <td>1509</td>\n      <td>drinks</td>\n      <td>21:50:00</td>\n      <td>Friday</td>\n      <td>Friday-1509</td>\n      <td>first</td>\n    </tr>\n    <tr>\n      <th>2019-09-06 21:50:00</th>\n      <td>1510</td>\n      <td>spices</td>\n      <td>21:50:00</td>\n      <td>Friday</td>\n      <td>Friday-1510</td>\n      <td>first</td>\n    </tr>\n  </tbody>\n</table>\n<p>24877 rows × 6 columns</p>\n</div>"
     },
     "metadata": {},
     "execution_count": 11
    }
   ],
   "source": [
    "df"
   ]
  },
  {
   "cell_type": "code",
   "execution_count": null,
   "metadata": {},
   "outputs": [],
   "source": []
  },
  {
   "cell_type": "code",
   "execution_count": 21,
   "metadata": {},
   "outputs": [
    {
     "output_type": "execute_result",
     "data": {
      "text/plain": [
       "          customer_id\n",
       "location             \n",
       "dairy            2141\n",
       "drinks           1143\n",
       "fruit            2810\n",
       "spices           1351"
      ],
      "text/html": "<div>\n<style scoped>\n    .dataframe tbody tr th:only-of-type {\n        vertical-align: middle;\n    }\n\n    .dataframe tbody tr th {\n        vertical-align: top;\n    }\n\n    .dataframe thead th {\n        text-align: right;\n    }\n</style>\n<table border=\"1\" class=\"dataframe\">\n  <thead>\n    <tr style=\"text-align: right;\">\n      <th></th>\n      <th>customer_id</th>\n    </tr>\n    <tr>\n      <th>location</th>\n      <th></th>\n    </tr>\n  </thead>\n  <tbody>\n    <tr>\n      <th>dairy</th>\n      <td>2141</td>\n    </tr>\n    <tr>\n      <th>drinks</th>\n      <td>1143</td>\n    </tr>\n    <tr>\n      <th>fruit</th>\n      <td>2810</td>\n    </tr>\n    <tr>\n      <th>spices</th>\n      <td>1351</td>\n    </tr>\n  </tbody>\n</table>\n</div>"
     },
     "metadata": {},
     "execution_count": 21
    }
   ],
   "source": [
    "customers_in_first_sections = (\n",
    "    df[df.section_order == 'first'].groupby('location')[['customer_id']].count()\n",
    ")\n",
    "customers_in_first_sections"
   ]
  },
  {
   "cell_type": "code",
   "execution_count": 22,
   "metadata": {},
   "outputs": [
    {
     "output_type": "execute_result",
     "data": {
      "text/plain": [
       "          customer_id\n",
       "location             \n",
       "dairy        0.287576\n",
       "drinks       0.153526\n",
       "fruit        0.377435\n",
       "spices       0.181464"
      ],
      "text/html": "<div>\n<style scoped>\n    .dataframe tbody tr th:only-of-type {\n        vertical-align: middle;\n    }\n\n    .dataframe tbody tr th {\n        vertical-align: top;\n    }\n\n    .dataframe thead th {\n        text-align: right;\n    }\n</style>\n<table border=\"1\" class=\"dataframe\">\n  <thead>\n    <tr style=\"text-align: right;\">\n      <th></th>\n      <th>customer_id</th>\n    </tr>\n    <tr>\n      <th>location</th>\n      <th></th>\n    </tr>\n  </thead>\n  <tbody>\n    <tr>\n      <th>dairy</th>\n      <td>0.287576</td>\n    </tr>\n    <tr>\n      <th>drinks</th>\n      <td>0.153526</td>\n    </tr>\n    <tr>\n      <th>fruit</th>\n      <td>0.377435</td>\n    </tr>\n    <tr>\n      <th>spices</th>\n      <td>0.181464</td>\n    </tr>\n  </tbody>\n</table>\n</div>"
     },
     "metadata": {},
     "execution_count": 22
    }
   ],
   "source": [
    "total_entries = sum(customers_in_first_sections['customer_id'].to_list())\n",
    "first_probabilities = customers_in_first_sections / total_entries\n",
    "first_probabilities"
   ]
  },
  {
   "source": [
    "### 1. The total number of customers in each section"
   ],
   "cell_type": "markdown",
   "metadata": {}
  },
  {
   "cell_type": "code",
   "execution_count": 23,
   "metadata": {},
   "outputs": [
    {
     "output_type": "execute_result",
     "data": {
      "text/plain": [
       "          customer_id\n",
       "location             \n",
       "spices           3754\n",
       "drinks           3905\n",
       "dairy            4679\n",
       "fruit            5122\n",
       "checkout         7417"
      ],
      "text/html": "<div>\n<style scoped>\n    .dataframe tbody tr th:only-of-type {\n        vertical-align: middle;\n    }\n\n    .dataframe tbody tr th {\n        vertical-align: top;\n    }\n\n    .dataframe thead th {\n        text-align: right;\n    }\n</style>\n<table border=\"1\" class=\"dataframe\">\n  <thead>\n    <tr style=\"text-align: right;\">\n      <th></th>\n      <th>customer_id</th>\n    </tr>\n    <tr>\n      <th>location</th>\n      <th></th>\n    </tr>\n  </thead>\n  <tbody>\n    <tr>\n      <th>spices</th>\n      <td>3754</td>\n    </tr>\n    <tr>\n      <th>drinks</th>\n      <td>3905</td>\n    </tr>\n    <tr>\n      <th>dairy</th>\n      <td>4679</td>\n    </tr>\n    <tr>\n      <th>fruit</th>\n      <td>5122</td>\n    </tr>\n    <tr>\n      <th>checkout</th>\n      <td>7417</td>\n    </tr>\n  </tbody>\n</table>\n</div>"
     },
     "metadata": {},
     "execution_count": 23
    }
   ],
   "source": [
    "section_sum = df.groupby('location')[['customer_id']].count().sort_values('customer_id')\n",
    "section_sum"
   ]
  },
  {
   "cell_type": "code",
   "execution_count": 24,
   "metadata": {},
   "outputs": [
    {
     "output_type": "execute_result",
     "data": {
      "text/plain": [
       "          customer_id\n",
       "location             \n",
       "spices            751\n",
       "drinks            781\n",
       "dairy             936\n",
       "fruit            1024\n",
       "checkout         1483"
      ],
      "text/html": "<div>\n<style scoped>\n    .dataframe tbody tr th:only-of-type {\n        vertical-align: middle;\n    }\n\n    .dataframe tbody tr th {\n        vertical-align: top;\n    }\n\n    .dataframe thead th {\n        text-align: right;\n    }\n</style>\n<table border=\"1\" class=\"dataframe\">\n  <thead>\n    <tr style=\"text-align: right;\">\n      <th></th>\n      <th>customer_id</th>\n    </tr>\n    <tr>\n      <th>location</th>\n      <th></th>\n    </tr>\n  </thead>\n  <tbody>\n    <tr>\n      <th>spices</th>\n      <td>751</td>\n    </tr>\n    <tr>\n      <th>drinks</th>\n      <td>781</td>\n    </tr>\n    <tr>\n      <th>dairy</th>\n      <td>936</td>\n    </tr>\n    <tr>\n      <th>fruit</th>\n      <td>1024</td>\n    </tr>\n    <tr>\n      <th>checkout</th>\n      <td>1483</td>\n    </tr>\n  </tbody>\n</table>\n</div>"
     },
     "metadata": {},
     "execution_count": 24
    }
   ],
   "source": [
    "# daily average of customer per section\n",
    "section_avg = round(section_sum / 5, 0).astype(int)\n",
    "section_avg"
   ]
  },
  {
   "source": [
    "### 2. Number of customer per section over time"
   ],
   "cell_type": "markdown",
   "metadata": {}
  },
  {
   "cell_type": "code",
   "execution_count": 26,
   "metadata": {},
   "outputs": [
    {
     "output_type": "execute_result",
     "data": {
      "text/plain": [
       "                   customer_id\n",
       "time     location             \n",
       "07:00:00 dairy               3\n",
       "         drinks              3\n",
       "         fruit               4\n",
       "07:01:00 checkout            2\n",
       "         dairy               4\n",
       "...                        ...\n",
       "21:50:00 checkout            2\n",
       "         dairy               3\n",
       "         drinks              1\n",
       "         fruit               2\n",
       "         spices              1\n",
       "\n",
       "[4383 rows x 1 columns]"
      ],
      "text/html": "<div>\n<style scoped>\n    .dataframe tbody tr th:only-of-type {\n        vertical-align: middle;\n    }\n\n    .dataframe tbody tr th {\n        vertical-align: top;\n    }\n\n    .dataframe thead th {\n        text-align: right;\n    }\n</style>\n<table border=\"1\" class=\"dataframe\">\n  <thead>\n    <tr style=\"text-align: right;\">\n      <th></th>\n      <th></th>\n      <th>customer_id</th>\n    </tr>\n    <tr>\n      <th>time</th>\n      <th>location</th>\n      <th></th>\n    </tr>\n  </thead>\n  <tbody>\n    <tr>\n      <th rowspan=\"3\" valign=\"top\">07:00:00</th>\n      <th>dairy</th>\n      <td>3</td>\n    </tr>\n    <tr>\n      <th>drinks</th>\n      <td>3</td>\n    </tr>\n    <tr>\n      <th>fruit</th>\n      <td>4</td>\n    </tr>\n    <tr>\n      <th rowspan=\"2\" valign=\"top\">07:01:00</th>\n      <th>checkout</th>\n      <td>2</td>\n    </tr>\n    <tr>\n      <th>dairy</th>\n      <td>4</td>\n    </tr>\n    <tr>\n      <th>...</th>\n      <th>...</th>\n      <td>...</td>\n    </tr>\n    <tr>\n      <th rowspan=\"5\" valign=\"top\">21:50:00</th>\n      <th>checkout</th>\n      <td>2</td>\n    </tr>\n    <tr>\n      <th>dairy</th>\n      <td>3</td>\n    </tr>\n    <tr>\n      <th>drinks</th>\n      <td>1</td>\n    </tr>\n    <tr>\n      <th>fruit</th>\n      <td>2</td>\n    </tr>\n    <tr>\n      <th>spices</th>\n      <td>1</td>\n    </tr>\n  </tbody>\n</table>\n<p>4383 rows × 1 columns</p>\n</div>"
     },
     "metadata": {},
     "execution_count": 26
    }
   ],
   "source": [
    "df.groupby(['time', 'location'])[['customer_id']].count()"
   ]
  },
  {
   "cell_type": "code",
   "execution_count": 27,
   "metadata": {},
   "outputs": [
    {
     "output_type": "execute_result",
     "data": {
      "text/plain": [
       "                   customer_id\n",
       "time     location             \n",
       "07:00:00 dairy             0.6\n",
       "         drinks            0.6\n",
       "         fruit             0.8\n",
       "07:01:00 checkout          0.4\n",
       "         dairy             0.8\n",
       "...                        ...\n",
       "21:50:00 checkout          0.4\n",
       "         dairy             0.6\n",
       "         drinks            0.2\n",
       "         fruit             0.4\n",
       "         spices            0.2\n",
       "\n",
       "[4383 rows x 1 columns]"
      ],
      "text/html": "<div>\n<style scoped>\n    .dataframe tbody tr th:only-of-type {\n        vertical-align: middle;\n    }\n\n    .dataframe tbody tr th {\n        vertical-align: top;\n    }\n\n    .dataframe thead th {\n        text-align: right;\n    }\n</style>\n<table border=\"1\" class=\"dataframe\">\n  <thead>\n    <tr style=\"text-align: right;\">\n      <th></th>\n      <th></th>\n      <th>customer_id</th>\n    </tr>\n    <tr>\n      <th>time</th>\n      <th>location</th>\n      <th></th>\n    </tr>\n  </thead>\n  <tbody>\n    <tr>\n      <th rowspan=\"3\" valign=\"top\">07:00:00</th>\n      <th>dairy</th>\n      <td>0.6</td>\n    </tr>\n    <tr>\n      <th>drinks</th>\n      <td>0.6</td>\n    </tr>\n    <tr>\n      <th>fruit</th>\n      <td>0.8</td>\n    </tr>\n    <tr>\n      <th rowspan=\"2\" valign=\"top\">07:01:00</th>\n      <th>checkout</th>\n      <td>0.4</td>\n    </tr>\n    <tr>\n      <th>dairy</th>\n      <td>0.8</td>\n    </tr>\n    <tr>\n      <th>...</th>\n      <th>...</th>\n      <td>...</td>\n    </tr>\n    <tr>\n      <th rowspan=\"5\" valign=\"top\">21:50:00</th>\n      <th>checkout</th>\n      <td>0.4</td>\n    </tr>\n    <tr>\n      <th>dairy</th>\n      <td>0.6</td>\n    </tr>\n    <tr>\n      <th>drinks</th>\n      <td>0.2</td>\n    </tr>\n    <tr>\n      <th>fruit</th>\n      <td>0.4</td>\n    </tr>\n    <tr>\n      <th>spices</th>\n      <td>0.2</td>\n    </tr>\n  </tbody>\n</table>\n<p>4383 rows × 1 columns</p>\n</div>"
     },
     "metadata": {},
     "execution_count": 27
    }
   ],
   "source": [
    "# Average customer per section per minute\n",
    "avg_customers_section = df.groupby(['time', 'location'])[['customer_id']].count()/5\n",
    "avg_customers_section"
   ]
  },
  {
   "cell_type": "code",
   "execution_count": 28,
   "metadata": {},
   "outputs": [
    {
     "output_type": "execute_result",
     "data": {
      "text/plain": [
       "                              customer_id\n",
       "timestamp           location             \n",
       "2019-09-02 07:03:00 dairy               2\n",
       "2019-09-02 07:04:00 dairy               2\n",
       "                    fruit               1\n",
       "                    spices              3\n",
       "2019-09-02 07:05:00 checkout            2\n",
       "...                                   ...\n",
       "2019-09-06 21:50:00 checkout            2\n",
       "                    dairy               1\n",
       "                    drinks              1\n",
       "                    fruit               1\n",
       "                    spices              1\n",
       "\n",
       "[13839 rows x 1 columns]"
      ],
      "text/html": "<div>\n<style scoped>\n    .dataframe tbody tr th:only-of-type {\n        vertical-align: middle;\n    }\n\n    .dataframe tbody tr th {\n        vertical-align: top;\n    }\n\n    .dataframe thead th {\n        text-align: right;\n    }\n</style>\n<table border=\"1\" class=\"dataframe\">\n  <thead>\n    <tr style=\"text-align: right;\">\n      <th></th>\n      <th></th>\n      <th>customer_id</th>\n    </tr>\n    <tr>\n      <th>timestamp</th>\n      <th>location</th>\n      <th></th>\n    </tr>\n  </thead>\n  <tbody>\n    <tr>\n      <th>2019-09-02 07:03:00</th>\n      <th>dairy</th>\n      <td>2</td>\n    </tr>\n    <tr>\n      <th rowspan=\"3\" valign=\"top\">2019-09-02 07:04:00</th>\n      <th>dairy</th>\n      <td>2</td>\n    </tr>\n    <tr>\n      <th>fruit</th>\n      <td>1</td>\n    </tr>\n    <tr>\n      <th>spices</th>\n      <td>3</td>\n    </tr>\n    <tr>\n      <th>2019-09-02 07:05:00</th>\n      <th>checkout</th>\n      <td>2</td>\n    </tr>\n    <tr>\n      <th>...</th>\n      <th>...</th>\n      <td>...</td>\n    </tr>\n    <tr>\n      <th rowspan=\"5\" valign=\"top\">2019-09-06 21:50:00</th>\n      <th>checkout</th>\n      <td>2</td>\n    </tr>\n    <tr>\n      <th>dairy</th>\n      <td>1</td>\n    </tr>\n    <tr>\n      <th>drinks</th>\n      <td>1</td>\n    </tr>\n    <tr>\n      <th>fruit</th>\n      <td>1</td>\n    </tr>\n    <tr>\n      <th>spices</th>\n      <td>1</td>\n    </tr>\n  </tbody>\n</table>\n<p>13839 rows × 1 columns</p>\n</div>"
     },
     "metadata": {},
     "execution_count": 28
    }
   ],
   "source": [
    "# total number of customers per timestamp and location\n",
    "customers_section = df.groupby([df.index, 'location'])[['customer_id']].count()\n",
    "customers_section"
   ]
  },
  {
   "source": [
    "### 3. Number of customers at checkout over time"
   ],
   "cell_type": "markdown",
   "metadata": {}
  },
  {
   "cell_type": "code",
   "execution_count": null,
   "metadata": {},
   "outputs": [],
   "source": []
  }
 ]
}